{
 "cells": [
  {
   "cell_type": "markdown",
   "metadata": {},
   "source": [
    "# Introduction"
   ]
  },
  {
   "cell_type": "markdown",
   "metadata": {},
   "source": [
    "As we've learned, deep neural networks provide (at least partly) hierarchical representations of data, tailored for a given task. \n",
    "\n",
    "At the end of a high-performance deep neural network, i.e. in the later hidden layers, you'll find a representation for each data instance that makes the task (relatively) easy to solve. \n",
    "\n",
    "An idea that can be quite useful in a wide variety of tasks is to _extract_ these representations and use them in other ML models. This is one easy way to combine information extracted by a deep neural network with other useful information for the task at hand. "
   ]
  },
  {
   "cell_type": "markdown",
   "metadata": {},
   "source": [
    "We'll use this idea in this notebook by extracting vector representations from the last hidden layer of a trained CNN, and use them to for training other ML models."
   ]
  },
  {
   "cell_type": "markdown",
   "metadata": {
    "heading_collapsed": true
   },
   "source": [
    "# Setup"
   ]
  },
  {
   "cell_type": "code",
   "execution_count": 1,
   "metadata": {},
   "outputs": [
    {
     "name": "stdout",
     "output_type": "stream",
     "text": [
      "The notebook is not running on Colab. colab=False.\n"
     ]
    }
   ],
   "source": [
    "# This is a quick check of whether the notebook is currently running on Google Colaboratory, as that makes some difference for the code below.\n",
    "# We'll do this in every notebook of the course.\n",
    "if 'google.colab' in str(get_ipython()):\n",
    "    print('The notebook is running on Colab. colab=True.')\n",
    "    colab=True\n",
    "else:\n",
    "    print('The notebook is not running on Colab. colab=False.')\n",
    "    colab=False"
   ]
  },
  {
   "cell_type": "code",
   "execution_count": 2,
   "metadata": {},
   "outputs": [],
   "source": [
    "gradient=False"
   ]
  },
  {
   "cell_type": "code",
   "execution_count": 31,
   "metadata": {
    "hidden": true
   },
   "outputs": [],
   "source": [
    "%matplotlib inline\n",
    "import pandas as pd, numpy as np\n",
    "from pathlib import Path\n",
    "import sys\n",
    "sys.path.append('../')"
   ]
  },
  {
   "cell_type": "code",
   "execution_count": 4,
   "metadata": {},
   "outputs": [],
   "source": [
    "NB_DIR = Path.cwd()\n",
    "\n",
    "DATA = NB_DIR/'dev-notebooks'/'data'/'drug'\n",
    "RAWDATA = DATA/'raw'\n",
    "LOCALDATA = DATA/'interim'\n",
    "\n",
    "if gradient:\n",
    "    IMGDATA = Path('/storage/molimages')\n",
    "else:\n",
    "    # Path to image data as defined earlier\n",
    "    IMGDATA = Path('/data-ssd/data/drug')"
   ]
  },
  {
   "cell_type": "code",
   "execution_count": 5,
   "metadata": {
    "hidden": true
   },
   "outputs": [],
   "source": [
    "from fastai.vision.all import *"
   ]
  },
  {
   "cell_type": "markdown",
   "metadata": {
    "heading_collapsed": true
   },
   "source": [
    "# Load data"
   ]
  },
  {
   "cell_type": "code",
   "execution_count": 12,
   "metadata": {
    "hidden": true
   },
   "outputs": [],
   "source": [
    "def get_df(data):\n",
    "    \"\"\"\n",
    "    Construct a dataframe containing \n",
    "        CID, SMILES, Image, Activity\n",
    "    \"\"\"\n",
    "    \n",
    "    name = \"_\".join(str(data.stem).split(\"_\")[:2])\n",
    "    \n",
    "    df = pd.read_csv(data)\n",
    "    df['Image'] = df['CID'].apply(lambda x: f'{str(x)}.png')\n",
    "    \n",
    "    return df[['CID', 'SMILES', 'Image', 'Activity']], name"
   ]
  },
  {
   "cell_type": "markdown",
   "metadata": {
    "hidden": true
   },
   "source": [
    "We remember that we had 7 activity datasets:"
   ]
  },
  {
   "cell_type": "code",
   "execution_count": 13,
   "metadata": {
    "hidden": true
   },
   "outputs": [
    {
     "data": {
      "text/plain": [
       "[Path('/data-ssd/Dropbox/Jobb/projects/ML/medGPU1-alex/PCS956-DL-2021/2-intro_to_practical_dl/dev-notebooks/data/drug/interim/CHEMBL1978_cl_ecfp_1024.csv')]"
      ]
     },
     "execution_count": 13,
     "metadata": {},
     "output_type": "execute_result"
    }
   ],
   "source": [
    "# Datasets available:\n",
    "data = sorted(list(LOCALDATA.ls(file_exts='.csv')))\n",
    "data"
   ]
  },
  {
   "cell_type": "markdown",
   "metadata": {
    "hidden": true
   },
   "source": [
    "...and that we've generated images of the molecules:"
   ]
  },
  {
   "cell_type": "code",
   "execution_count": 14,
   "metadata": {
    "hidden": true
   },
   "outputs": [
    {
     "data": {
      "text/plain": [
       "(#7) [Path('/data-ssd/data/drug/CHEMBL240_cl'),Path('/data-ssd/data/drug/CHEMBL301_cl'),Path('/data-ssd/data/drug/CHEMBL219_cl'),Path('/data-ssd/data/drug/CHEMBL244_cl'),Path('/data-ssd/data/drug/CHEMBL205_cl'),Path('/data-ssd/data/drug/CHEMBL1978_cl'),Path('/data-ssd/data/drug/CHEMBL218_cl')]"
      ]
     },
     "execution_count": 14,
     "metadata": {},
     "output_type": "execute_result"
    }
   ],
   "source": [
    "IMGDATA.ls()"
   ]
  },
  {
   "cell_type": "markdown",
   "metadata": {
    "hidden": true
   },
   "source": [
    "We'll use the **CHEMBL1978** data set in this notebook, as it's one of the smaller ones (and therefore quicker to train models on and to extract features from):"
   ]
  },
  {
   "cell_type": "code",
   "execution_count": 15,
   "metadata": {
    "hidden": true
   },
   "outputs": [
    {
     "data": {
      "text/plain": [
       "Path('/data-ssd/Dropbox/Jobb/projects/ML/medGPU1-alex/PCS956-DL-2021/2-intro_to_practical_dl/dev-notebooks/data/drug/interim/CHEMBL1978_cl_ecfp_1024.csv')"
      ]
     },
     "execution_count": 15,
     "metadata": {},
     "output_type": "execute_result"
    }
   ],
   "source": [
    "ds = data[0]\n",
    "ds"
   ]
  },
  {
   "cell_type": "code",
   "execution_count": 16,
   "metadata": {
    "hidden": true
   },
   "outputs": [
    {
     "name": "stderr",
     "output_type": "stream",
     "text": [
      "/tmp/ipykernel_15249/1099125352.py:10: PerformanceWarning: DataFrame is highly fragmented.  This is usually the result of calling `frame.insert` many times, which has poor performance.  Consider joining all columns at once using pd.concat(axis=1) instead.  To get a de-fragmented frame, use `newframe = frame.copy()`\n",
      "  df['Image'] = df['CID'].apply(lambda x: f'{str(x)}.png')\n"
     ]
    }
   ],
   "source": [
    "df, name = get_df(ds)"
   ]
  },
  {
   "cell_type": "code",
   "execution_count": 17,
   "metadata": {
    "hidden": true
   },
   "outputs": [
    {
     "data": {
      "text/html": [
       "<div>\n",
       "<style scoped>\n",
       "    .dataframe tbody tr th:only-of-type {\n",
       "        vertical-align: middle;\n",
       "    }\n",
       "\n",
       "    .dataframe tbody tr th {\n",
       "        vertical-align: top;\n",
       "    }\n",
       "\n",
       "    .dataframe thead th {\n",
       "        text-align: right;\n",
       "    }\n",
       "</style>\n",
       "<table border=\"1\" class=\"dataframe\">\n",
       "  <thead>\n",
       "    <tr style=\"text-align: right;\">\n",
       "      <th></th>\n",
       "      <th>CID</th>\n",
       "      <th>SMILES</th>\n",
       "      <th>Image</th>\n",
       "      <th>Activity</th>\n",
       "    </tr>\n",
       "  </thead>\n",
       "  <tbody>\n",
       "    <tr>\n",
       "      <th>0</th>\n",
       "      <td>CHEMBL1454842</td>\n",
       "      <td>s1nc(nc1-c1ccncc1)-c1ccncc1</td>\n",
       "      <td>CHEMBL1454842.png</td>\n",
       "      <td>1</td>\n",
       "    </tr>\n",
       "    <tr>\n",
       "      <th>1</th>\n",
       "      <td>CHEMBL1939366</td>\n",
       "      <td>s1nc(nc1-c1cccnc1)-c1cccnc1</td>\n",
       "      <td>CHEMBL1939366.png</td>\n",
       "      <td>1</td>\n",
       "    </tr>\n",
       "    <tr>\n",
       "      <th>2</th>\n",
       "      <td>CHEMBL192155</td>\n",
       "      <td>s1cncc1\\C=C\\1/CCc2cc(OC)ccc/12</td>\n",
       "      <td>CHEMBL192155.png</td>\n",
       "      <td>1</td>\n",
       "    </tr>\n",
       "    <tr>\n",
       "      <th>3</th>\n",
       "      <td>CHEMBL517816</td>\n",
       "      <td>s1cccc1CN(n1ncnc1)Cc1ccc(cc1)C(C)(C)C</td>\n",
       "      <td>CHEMBL517816.png</td>\n",
       "      <td>1</td>\n",
       "    </tr>\n",
       "    <tr>\n",
       "      <th>4</th>\n",
       "      <td>CHEMBL523973</td>\n",
       "      <td>s1cccc1CN(n1ccnc1)Cc1ccc(cc1)C(C)(C)C</td>\n",
       "      <td>CHEMBL523973.png</td>\n",
       "      <td>1</td>\n",
       "    </tr>\n",
       "  </tbody>\n",
       "</table>\n",
       "</div>"
      ],
      "text/plain": [
       "             CID                                 SMILES              Image  \\\n",
       "0  CHEMBL1454842            s1nc(nc1-c1ccncc1)-c1ccncc1  CHEMBL1454842.png   \n",
       "1  CHEMBL1939366            s1nc(nc1-c1cccnc1)-c1cccnc1  CHEMBL1939366.png   \n",
       "2   CHEMBL192155         s1cncc1\\C=C\\1/CCc2cc(OC)ccc/12   CHEMBL192155.png   \n",
       "3   CHEMBL517816  s1cccc1CN(n1ncnc1)Cc1ccc(cc1)C(C)(C)C   CHEMBL517816.png   \n",
       "4   CHEMBL523973  s1cccc1CN(n1ccnc1)Cc1ccc(cc1)C(C)(C)C   CHEMBL523973.png   \n",
       "\n",
       "   Activity  \n",
       "0         1  \n",
       "1         1  \n",
       "2         1  \n",
       "3         1  \n",
       "4         1  "
      ]
     },
     "execution_count": 17,
     "metadata": {},
     "output_type": "execute_result"
    }
   ],
   "source": [
    "df.head()"
   ]
  },
  {
   "cell_type": "code",
   "execution_count": 18,
   "metadata": {
    "hidden": true
   },
   "outputs": [
    {
     "name": "stdout",
     "output_type": "stream",
     "text": [
      "<class 'pandas.core.frame.DataFrame'>\n",
      "RangeIndex: 6831 entries, 0 to 6830\n",
      "Data columns (total 4 columns):\n",
      " #   Column    Non-Null Count  Dtype \n",
      "---  ------    --------------  ----- \n",
      " 0   CID       6831 non-null   object\n",
      " 1   SMILES    6831 non-null   object\n",
      " 2   Image     6831 non-null   object\n",
      " 3   Activity  6831 non-null   int64 \n",
      "dtypes: int64(1), object(3)\n",
      "memory usage: 213.6+ KB\n"
     ]
    }
   ],
   "source": [
    "df.info()"
   ]
  },
  {
   "cell_type": "code",
   "execution_count": 19,
   "metadata": {
    "hidden": true
   },
   "outputs": [
    {
     "data": {
      "text/plain": [
       "0    6210\n",
       "1     621\n",
       "Name: Activity, dtype: int64"
      ]
     },
     "execution_count": 19,
     "metadata": {},
     "output_type": "execute_result"
    }
   ],
   "source": [
    "df['Activity'].value_counts()"
   ]
  },
  {
   "cell_type": "markdown",
   "metadata": {
    "heading_collapsed": true,
    "hidden": true
   },
   "source": [
    "## Create train-val-split and oversample train"
   ]
  },
  {
   "cell_type": "code",
   "execution_count": 20,
   "metadata": {
    "hidden": true
   },
   "outputs": [],
   "source": [
    "from sklearn.model_selection import train_test_split"
   ]
  },
  {
   "cell_type": "code",
   "execution_count": 21,
   "metadata": {
    "hidden": true
   },
   "outputs": [],
   "source": [
    "def val_cols_and_oversample(df, test_size=0.25, random_state=42, oversample=True):\n",
    "    x_train,x_val = train_test_split(df.index, test_size=test_size, stratify=df['Activity'], \n",
    "                                     random_state=random_state)\n",
    "    \n",
    "    df.loc[x_train, 'is_valid']=False\n",
    "    df.loc[x_val, 'is_valid']=True\n",
    "    # Oversample is_valid=False columns\n",
    "    if oversample:\n",
    "        df = pd.concat([*[df.loc[(df.is_valid==False) & (df.Activity==1)]]*10, \n",
    "                        *[df.loc[(df.is_valid==False) & (df.Activity==0)]], \n",
    "                        df.loc[df.is_valid==True]], \n",
    "                       ignore_index=True)\n",
    "    return df"
   ]
  },
  {
   "cell_type": "code",
   "execution_count": 22,
   "metadata": {
    "hidden": true
   },
   "outputs": [],
   "source": [
    "df = val_cols_and_oversample(df)"
   ]
  },
  {
   "cell_type": "code",
   "execution_count": 23,
   "metadata": {
    "hidden": true
   },
   "outputs": [
    {
     "data": {
      "text/html": [
       "<div>\n",
       "<style scoped>\n",
       "    .dataframe tbody tr th:only-of-type {\n",
       "        vertical-align: middle;\n",
       "    }\n",
       "\n",
       "    .dataframe tbody tr th {\n",
       "        vertical-align: top;\n",
       "    }\n",
       "\n",
       "    .dataframe thead th {\n",
       "        text-align: right;\n",
       "    }\n",
       "</style>\n",
       "<table border=\"1\" class=\"dataframe\">\n",
       "  <thead>\n",
       "    <tr style=\"text-align: right;\">\n",
       "      <th></th>\n",
       "      <th>CID</th>\n",
       "      <th>SMILES</th>\n",
       "      <th>Image</th>\n",
       "      <th>Activity</th>\n",
       "      <th>is_valid</th>\n",
       "    </tr>\n",
       "  </thead>\n",
       "  <tbody>\n",
       "    <tr>\n",
       "      <th>0</th>\n",
       "      <td>CHEMBL1939366</td>\n",
       "      <td>s1nc(nc1-c1cccnc1)-c1cccnc1</td>\n",
       "      <td>CHEMBL1939366.png</td>\n",
       "      <td>1</td>\n",
       "      <td>False</td>\n",
       "    </tr>\n",
       "    <tr>\n",
       "      <th>1</th>\n",
       "      <td>CHEMBL517816</td>\n",
       "      <td>s1cccc1CN(n1ncnc1)Cc1ccc(cc1)C(C)(C)C</td>\n",
       "      <td>CHEMBL517816.png</td>\n",
       "      <td>1</td>\n",
       "      <td>False</td>\n",
       "    </tr>\n",
       "    <tr>\n",
       "      <th>2</th>\n",
       "      <td>CHEMBL523973</td>\n",
       "      <td>s1cccc1CN(n1ccnc1)Cc1ccc(cc1)C(C)(C)C</td>\n",
       "      <td>CHEMBL523973.png</td>\n",
       "      <td>1</td>\n",
       "      <td>False</td>\n",
       "    </tr>\n",
       "    <tr>\n",
       "      <th>3</th>\n",
       "      <td>CHEMBL1957218</td>\n",
       "      <td>s1cc(nc1-c1ccncc1C)-c1cccnc1</td>\n",
       "      <td>CHEMBL1957218.png</td>\n",
       "      <td>1</td>\n",
       "      <td>False</td>\n",
       "    </tr>\n",
       "    <tr>\n",
       "      <th>4</th>\n",
       "      <td>CHEMBL1957223</td>\n",
       "      <td>s1cc(nc1-c1cccnc1)-c1ccc(OC)nc1</td>\n",
       "      <td>CHEMBL1957223.png</td>\n",
       "      <td>1</td>\n",
       "      <td>False</td>\n",
       "    </tr>\n",
       "  </tbody>\n",
       "</table>\n",
       "</div>"
      ],
      "text/plain": [
       "             CID                                 SMILES              Image  \\\n",
       "0  CHEMBL1939366            s1nc(nc1-c1cccnc1)-c1cccnc1  CHEMBL1939366.png   \n",
       "1   CHEMBL517816  s1cccc1CN(n1ncnc1)Cc1ccc(cc1)C(C)(C)C   CHEMBL517816.png   \n",
       "2   CHEMBL523973  s1cccc1CN(n1ccnc1)Cc1ccc(cc1)C(C)(C)C   CHEMBL523973.png   \n",
       "3  CHEMBL1957218           s1cc(nc1-c1ccncc1C)-c1cccnc1  CHEMBL1957218.png   \n",
       "4  CHEMBL1957223        s1cc(nc1-c1cccnc1)-c1ccc(OC)nc1  CHEMBL1957223.png   \n",
       "\n",
       "   Activity is_valid  \n",
       "0         1    False  \n",
       "1         1    False  \n",
       "2         1    False  \n",
       "3         1    False  \n",
       "4         1    False  "
      ]
     },
     "execution_count": 23,
     "metadata": {},
     "output_type": "execute_result"
    }
   ],
   "source": [
    "df.head()"
   ]
  },
  {
   "cell_type": "code",
   "execution_count": 24,
   "metadata": {
    "hidden": true
   },
   "outputs": [
    {
     "data": {
      "text/plain": [
       "0    6210\n",
       "1    4815\n",
       "Name: Activity, dtype: int64"
      ]
     },
     "execution_count": 24,
     "metadata": {},
     "output_type": "execute_result"
    }
   ],
   "source": [
    "df['Activity'].value_counts()"
   ]
  },
  {
   "cell_type": "markdown",
   "metadata": {
    "heading_collapsed": true
   },
   "source": [
    "# Create a dataloader"
   ]
  },
  {
   "cell_type": "code",
   "execution_count": 25,
   "metadata": {
    "hidden": true
   },
   "outputs": [],
   "source": [
    "bs=64"
   ]
  },
  {
   "cell_type": "code",
   "execution_count": 26,
   "metadata": {
    "hidden": true
   },
   "outputs": [],
   "source": [
    "batch_tfms = [Rotate(max_deg=25, pad_mode='border'), \n",
    "              Normalize.from_stats(*imagenet_stats)]"
   ]
  },
  {
   "cell_type": "code",
   "execution_count": 27,
   "metadata": {},
   "outputs": [
    {
     "data": {
      "text/plain": [
       "Path('/data-ssd/data/drug')"
      ]
     },
     "execution_count": 27,
     "metadata": {},
     "output_type": "execute_result"
    }
   ],
   "source": [
    "IMGDATA"
   ]
  },
  {
   "cell_type": "code",
   "execution_count": 28,
   "metadata": {
    "hidden": true
   },
   "outputs": [],
   "source": [
    "datablock = DataBlock(\n",
    "    blocks=(ImageBlock(), CategoryBlock()),\n",
    "    get_x=ColReader('Image', pref=IMGDATA/name),\n",
    "    get_y=ColReader('Activity'),\n",
    "    splitter=ColSplitter('is_valid'),\n",
    "    item_tfms=None,\n",
    "    batch_tfms=batch_tfms\n",
    "    )"
   ]
  },
  {
   "cell_type": "code",
   "execution_count": 29,
   "metadata": {
    "hidden": true
   },
   "outputs": [],
   "source": [
    "dls = datablock.dataloaders(df, bs=bs, shuffle_train=True)"
   ]
  },
  {
   "cell_type": "code",
   "execution_count": 30,
   "metadata": {
    "hidden": true
   },
   "outputs": [
    {
     "data": {
      "image/png": "[encoded data removed]",
      "text/plain": [
       "<Figure size 648x648 with 9 Axes>"
      ]
     },
     "metadata": {
      "needs_background": "light"
     },
     "output_type": "display_data"
    }
   ],
   "source": [
    "dls.show_batch()"
   ]
  },
  {
   "cell_type": "markdown",
   "metadata": {
    "heading_collapsed": true
   },
   "source": [
    "# Train a CNN"
   ]
  },
  {
   "cell_type": "code",
   "execution_count": 35,
   "metadata": {},
   "outputs": [],
   "source": [
    "# Copied from here: https://forums.fast.ai/t/plotting-metrics-after-learning/69937/3\n",
    "@patch\n",
    "@delegates(subplots)\n",
    "def plot_metrics(self: Recorder, nrows=None, ncols=None, figsize=None, endnames=-1, **kwargs):\n",
    "    metrics = np.stack(self.values)\n",
    "    names = self.metric_names[1:endnames]\n",
    "    n = len(names) - 1\n",
    "    if nrows is None and ncols is None:\n",
    "        nrows = int(math.sqrt(n))\n",
    "        ncols = int(np.ceil(n / nrows))\n",
    "    elif nrows is None: nrows = int(np.ceil(n / ncols))\n",
    "    elif ncols is None: ncols = int(np.ceil(n / nrows))\n",
    "    figsize = figsize or (ncols * 6, nrows * 4)\n",
    "    fig, axs = subplots(nrows, ncols, figsize=figsize, **kwargs)\n",
    "    axs = [ax if i < n else ax.set_axis_off() for i, ax in enumerate(axs.flatten())][:n]\n",
    "    for i, (name, ax) in enumerate(zip(names, [axs[0]] + axs)):\n",
    "        ax.plot(metrics[:, i], color='#1f77b4' if i == 0 else '#ff7f0e', label='valid' if i > 0 else 'train')\n",
    "        ax.set_title(name if i > 1 else 'losses')\n",
    "        ax.legend(loc='best')\n",
    "    plt.show()\n",
    "    "
   ]
  },
  {
   "cell_type": "markdown",
   "metadata": {
    "hidden": true
   },
   "source": [
    "We use a pretrained resnet18 model as before, only adding a custom \"head\" to the model that outputs 128 features (to have fewer activations in the final hidden layer):"
   ]
  },
  {
   "cell_type": "code",
   "execution_count": 36,
   "metadata": {
    "hidden": true
   },
   "outputs": [],
   "source": [
    "custom_head = create_head(nf=512, n_out=2, lin_ftrs=[128], concat_pool=True)"
   ]
  },
  {
   "cell_type": "code",
   "execution_count": 37,
   "metadata": {
    "hidden": true
   },
   "outputs": [
    {
     "data": {
      "text/plain": [
       "Sequential(\n",
       "  (0): AdaptiveConcatPool2d(\n",
       "    (ap): AdaptiveAvgPool2d(output_size=1)\n",
       "    (mp): AdaptiveMaxPool2d(output_size=1)\n",
       "  )\n",
       "  (1): Flatten(full=False)\n",
       "  (2): BatchNorm1d(1024, eps=1e-05, momentum=0.1, affine=True, track_running_stats=True)\n",
       "  (3): Dropout(p=0.25, inplace=False)\n",
       "  (4): Linear(in_features=1024, out_features=128, bias=False)\n",
       "  (5): ReLU(inplace=True)\n",
       "  (6): BatchNorm1d(128, eps=1e-05, momentum=0.1, affine=True, track_running_stats=True)\n",
       "  (7): Dropout(p=0.5, inplace=False)\n",
       "  (8): Linear(in_features=128, out_features=2, bias=False)\n",
       ")"
      ]
     },
     "execution_count": 37,
     "metadata": {},
     "output_type": "execute_result"
    }
   ],
   "source": [
    "custom_head"
   ]
  },
  {
   "cell_type": "code",
   "execution_count": 42,
   "metadata": {
    "hidden": true
   },
   "outputs": [],
   "source": [
    "learn = cnn_learner(dls,                             \n",
    "                arch=resnet18, pretrained=True,  \n",
    "                custom_head=custom_head,\n",
    "                wd=2e-4, ps=0.8,                    \n",
    "                metrics=[accuracy,                  \n",
    "                         F1Score(), \n",
    "                         Precision(), \n",
    "                         Recall(), \n",
    "                         RocAucBinary(), \n",
    "                         MatthewsCorrCoef()],\n",
    "                cbs=[ShowGraphCallback()])"
   ]
  },
  {
   "cell_type": "markdown",
   "metadata": {
    "hidden": true
   },
   "source": [
    "The below training takes a while. We can rather load the results of a previous run:"
   ]
  },
  {
   "cell_type": "code",
   "execution_count": 39,
   "metadata": {
    "hidden": true
   },
   "outputs": [],
   "source": [
    "#learn = learn.load('chembl1978-model-test-hooks')"
   ]
  },
  {
   "cell_type": "code",
   "execution_count": 44,
   "metadata": {
    "hidden": true
   },
   "outputs": [
    {
     "data": {
      "text/html": [],
      "text/plain": [
       "<IPython.core.display.HTML object>"
      ]
     },
     "metadata": {},
     "output_type": "display_data"
    },
    {
     "name": "stderr",
     "output_type": "stream",
     "text": [
      "/home/alex/anaconda3/envs/pcs956/lib/python3.8/site-packages/fastai/callback/schedule.py:269: UserWarning: color is redundantly defined by the 'color' keyword argument and the fmt string \"ro\" (-> color='r'). The keyword argument will take precedence.\n",
      "  ax.plot(val, idx, 'ro', label=nm, c=color)\n"
     ]
    },
    {
     "data": {
      "image/png": "[encoded data removed]",
      "text/plain": [
       "<Figure size 432x288 with 1 Axes>"
      ]
     },
     "metadata": {
      "needs_background": "light"
     },
     "output_type": "display_data"
    }
   ],
   "source": [
    "lr = learn.lr_find()"
   ]
  },
  {
   "cell_type": "code",
   "execution_count": 45,
   "metadata": {
    "hidden": true
   },
   "outputs": [
    {
     "data": {
      "text/plain": [
       "SuggestedLRs(valley=0.001737800776027143)"
      ]
     },
     "execution_count": 45,
     "metadata": {},
     "output_type": "execute_result"
    }
   ],
   "source": [
    "lr"
   ]
  },
  {
   "cell_type": "code",
   "execution_count": 46,
   "metadata": {
    "hidden": true,
    "tags": []
   },
   "outputs": [
    {
     "data": {
      "text/html": [
       "<table border=\"1\" class=\"dataframe\">\n",
       "  <thead>\n",
       "    <tr style=\"text-align: left;\">\n",
       "      <th>epoch</th>\n",
       "      <th>train_loss</th>\n",
       "      <th>valid_loss</th>\n",
       "      <th>accuracy</th>\n",
       "      <th>f1_score</th>\n",
       "      <th>precision_score</th>\n",
       "      <th>recall_score</th>\n",
       "      <th>roc_auc_score</th>\n",
       "      <th>matthews_corrcoef</th>\n",
       "      <th>time</th>\n",
       "    </tr>\n",
       "  </thead>\n",
       "  <tbody>\n",
       "    <tr>\n",
       "      <td>0</td>\n",
       "      <td>0.238991</td>\n",
       "      <td>0.127476</td>\n",
       "      <td>0.954918</td>\n",
       "      <td>0.785515</td>\n",
       "      <td>0.691176</td>\n",
       "      <td>0.909677</td>\n",
       "      <td>0.978323</td>\n",
       "      <td>0.769817</td>\n",
       "      <td>00:38</td>\n",
       "    </tr>\n",
       "  </tbody>\n",
       "</table>"
      ],
      "text/plain": [
       "<IPython.core.display.HTML object>"
      ]
     },
     "metadata": {},
     "output_type": "display_data"
    },
    {
     "data": {
      "image/png": "[encoded data removed]",
      "text/plain": [
       "<Figure size 432x288 with 1 Axes>"
      ]
     },
     "metadata": {},
     "output_type": "display_data"
    },
    {
     "data": {
      "text/html": [
       "<table border=\"1\" class=\"dataframe\">\n",
       "  <thead>\n",
       "    <tr style=\"text-align: left;\">\n",
       "      <th>epoch</th>\n",
       "      <th>train_loss</th>\n",
       "      <th>valid_loss</th>\n",
       "      <th>accuracy</th>\n",
       "      <th>f1_score</th>\n",
       "      <th>precision_score</th>\n",
       "      <th>recall_score</th>\n",
       "      <th>roc_auc_score</th>\n",
       "      <th>matthews_corrcoef</th>\n",
       "      <th>time</th>\n",
       "    </tr>\n",
       "  </thead>\n",
       "  <tbody>\n",
       "    <tr>\n",
       "      <td>0</td>\n",
       "      <td>0.127066</td>\n",
       "      <td>0.180350</td>\n",
       "      <td>0.939110</td>\n",
       "      <td>0.736041</td>\n",
       "      <td>0.606695</td>\n",
       "      <td>0.935484</td>\n",
       "      <td>0.980832</td>\n",
       "      <td>0.724482</td>\n",
       "      <td>00:47</td>\n",
       "    </tr>\n",
       "    <tr>\n",
       "      <td>1</td>\n",
       "      <td>0.111178</td>\n",
       "      <td>0.129244</td>\n",
       "      <td>0.960187</td>\n",
       "      <td>0.751825</td>\n",
       "      <td>0.865546</td>\n",
       "      <td>0.664516</td>\n",
       "      <td>0.970820</td>\n",
       "      <td>0.738135</td>\n",
       "      <td>00:46</td>\n",
       "    </tr>\n",
       "    <tr>\n",
       "      <td>2</td>\n",
       "      <td>0.088340</td>\n",
       "      <td>0.141834</td>\n",
       "      <td>0.960187</td>\n",
       "      <td>0.810056</td>\n",
       "      <td>0.714286</td>\n",
       "      <td>0.935484</td>\n",
       "      <td>0.978691</td>\n",
       "      <td>0.797219</td>\n",
       "      <td>00:46</td>\n",
       "    </tr>\n",
       "    <tr>\n",
       "      <td>3</td>\n",
       "      <td>0.063858</td>\n",
       "      <td>0.108594</td>\n",
       "      <td>0.973068</td>\n",
       "      <td>0.853503</td>\n",
       "      <td>0.842767</td>\n",
       "      <td>0.864516</td>\n",
       "      <td>0.976985</td>\n",
       "      <td>0.838759</td>\n",
       "      <td>00:46</td>\n",
       "    </tr>\n",
       "    <tr>\n",
       "      <td>4</td>\n",
       "      <td>0.045126</td>\n",
       "      <td>0.097579</td>\n",
       "      <td>0.977166</td>\n",
       "      <td>0.872131</td>\n",
       "      <td>0.886667</td>\n",
       "      <td>0.858065</td>\n",
       "      <td>0.979008</td>\n",
       "      <td>0.859738</td>\n",
       "      <td>00:46</td>\n",
       "    </tr>\n",
       "    <tr>\n",
       "      <td>5</td>\n",
       "      <td>0.025912</td>\n",
       "      <td>0.091688</td>\n",
       "      <td>0.974824</td>\n",
       "      <td>0.866044</td>\n",
       "      <td>0.837349</td>\n",
       "      <td>0.896774</td>\n",
       "      <td>0.978834</td>\n",
       "      <td>0.852778</td>\n",
       "      <td>00:46</td>\n",
       "    </tr>\n",
       "    <tr>\n",
       "      <td>6</td>\n",
       "      <td>0.018765</td>\n",
       "      <td>0.090291</td>\n",
       "      <td>0.978337</td>\n",
       "      <td>0.879479</td>\n",
       "      <td>0.888158</td>\n",
       "      <td>0.870968</td>\n",
       "      <td>0.979852</td>\n",
       "      <td>0.867629</td>\n",
       "      <td>00:47</td>\n",
       "    </tr>\n",
       "    <tr>\n",
       "      <td>7</td>\n",
       "      <td>0.013475</td>\n",
       "      <td>0.089444</td>\n",
       "      <td>0.979508</td>\n",
       "      <td>0.884488</td>\n",
       "      <td>0.905405</td>\n",
       "      <td>0.864516</td>\n",
       "      <td>0.980450</td>\n",
       "      <td>0.873533</td>\n",
       "      <td>00:46</td>\n",
       "    </tr>\n",
       "  </tbody>\n",
       "</table>"
      ],
      "text/plain": [
       "<IPython.core.display.HTML object>"
      ]
     },
     "metadata": {},
     "output_type": "display_data"
    },
    {
     "data": {
      "image/png": "[encoded data removed]",
      "text/plain": [
       "<Figure size 432x288 with 1 Axes>"
      ]
     },
     "metadata": {},
     "output_type": "display_data"
    }
   ],
   "source": [
    "learn.freeze()\n",
    "learn.fit(1, lr.valley)\n",
    "learn.unfreeze()\n",
    "learn.fit_one_cycle(8, slice(lr.valley))"
   ]
  },
  {
   "cell_type": "code",
   "execution_count": 47,
   "metadata": {
    "hidden": true
   },
   "outputs": [
    {
     "data": {
      "image/png": "[encoded data removed]",
      "text/plain": [
       "<Figure size 1728x576 with 8 Axes>"
      ]
     },
     "metadata": {
      "needs_background": "light"
     },
     "output_type": "display_data"
    }
   ],
   "source": [
    "learn.recorder.plot_metrics()"
   ]
  },
  {
   "cell_type": "code",
   "execution_count": 48,
   "metadata": {
    "hidden": true
   },
   "outputs": [
    {
     "data": {
      "text/plain": [
       "Path('models/chembl1978-model-test-hooks.pth')"
      ]
     },
     "execution_count": 48,
     "metadata": {},
     "output_type": "execute_result"
    }
   ],
   "source": [
    "learn.save('chembl1978-model-test-hooks')"
   ]
  },
  {
   "cell_type": "markdown",
   "metadata": {
    "hidden": true
   },
   "source": [
    "### Evaluate"
   ]
  },
  {
   "cell_type": "code",
   "execution_count": 49,
   "metadata": {
    "hidden": true
   },
   "outputs": [
    {
     "data": {
      "text/html": [],
      "text/plain": [
       "<IPython.core.display.HTML object>"
      ]
     },
     "metadata": {},
     "output_type": "display_data"
    }
   ],
   "source": [
    "interp = ClassificationInterpretation.from_learner(learn)"
   ]
  },
  {
   "cell_type": "code",
   "execution_count": 50,
   "metadata": {
    "hidden": true
   },
   "outputs": [
    {
     "data": {
      "image/png": "[encoded data removed]",
      "text/plain": [
       "<Figure size 432x288 with 1 Axes>"
      ]
     },
     "metadata": {
      "needs_background": "light"
     },
     "output_type": "display_data"
    }
   ],
   "source": [
    "interp.plot_confusion_matrix()"
   ]
  },
  {
   "cell_type": "markdown",
   "metadata": {
    "heading_collapsed": true
   },
   "source": [
    "# Save activations \n",
    "\n",
    "from second final layer. To be used to train a different ML model."
   ]
  },
  {
   "cell_type": "markdown",
   "metadata": {
    "hidden": true
   },
   "source": [
    "We need to register a \"hook\" at the layer we want to save activations from:"
   ]
  },
  {
   "cell_type": "code",
   "execution_count": 51,
   "metadata": {
    "hidden": true
   },
   "outputs": [],
   "source": [
    "class Hook():\n",
    "    def hook_func(self, m, i, o): self.stored = o.detach().clone()"
   ]
  },
  {
   "cell_type": "code",
   "execution_count": 52,
   "metadata": {
    "hidden": true
   },
   "outputs": [
    {
     "data": {
      "text/plain": [
       "Linear(in_features=1024, out_features=128, bias=False)"
      ]
     },
     "execution_count": 52,
     "metadata": {},
     "output_type": "execute_result"
    }
   ],
   "source": [
    "learn.model[-1][-5]"
   ]
  },
  {
   "cell_type": "code",
   "execution_count": 53,
   "metadata": {
    "hidden": true
   },
   "outputs": [],
   "source": [
    "hook_output = Hook()\n",
    "hook = learn.model[-1][-5].register_forward_hook(hook_output.hook_func)"
   ]
  },
  {
   "cell_type": "markdown",
   "metadata": {
    "hidden": true
   },
   "source": [
    "Create the df again, this time with no oversampling (as that's not necessary)."
   ]
  },
  {
   "cell_type": "code",
   "execution_count": 54,
   "metadata": {
    "hidden": true
   },
   "outputs": [
    {
     "name": "stderr",
     "output_type": "stream",
     "text": [
      "/tmp/ipykernel_15249/1099125352.py:10: PerformanceWarning: DataFrame is highly fragmented.  This is usually the result of calling `frame.insert` many times, which has poor performance.  Consider joining all columns at once using pd.concat(axis=1) instead.  To get a de-fragmented frame, use `newframe = frame.copy()`\n",
      "  df['Image'] = df['CID'].apply(lambda x: f'{str(x)}.png')\n"
     ]
    }
   ],
   "source": [
    "df, name = get_df(ds)\n",
    "\n",
    "df_nodupl = val_cols_and_oversample(df, oversample=False)"
   ]
  },
  {
   "cell_type": "markdown",
   "metadata": {
    "hidden": true
   },
   "source": [
    "No data augmentation:"
   ]
  },
  {
   "cell_type": "code",
   "execution_count": 55,
   "metadata": {
    "hidden": true
   },
   "outputs": [],
   "source": [
    "test_db = DataBlock(\n",
    "    blocks=(ImageBlock(), CategoryBlock()),\n",
    "    get_x=ColReader('Image', pref=IMGDATA/name),\n",
    "    get_y=ColReader('Activity'),\n",
    "    splitter=RandomSplitter(valid_pct=0.),\n",
    "    item_tfms=None,\n",
    "    batch_tfms=None\n",
    "    )"
   ]
  },
  {
   "cell_type": "markdown",
   "metadata": {
    "hidden": true
   },
   "source": [
    "We can feed one image at a time throught the model to get the activations"
   ]
  },
  {
   "cell_type": "code",
   "execution_count": 56,
   "metadata": {
    "hidden": true
   },
   "outputs": [],
   "source": [
    "test_dls = test_db.dataloaders(df_nodupl, bs=1)"
   ]
  },
  {
   "cell_type": "code",
   "execution_count": 57,
   "metadata": {
    "hidden": true
   },
   "outputs": [],
   "source": [
    "test_df = test_dls.items.reset_index()"
   ]
  },
  {
   "cell_type": "code",
   "execution_count": 58,
   "metadata": {
    "hidden": true
   },
   "outputs": [
    {
     "data": {
      "text/html": [
       "<div>\n",
       "<style scoped>\n",
       "    .dataframe tbody tr th:only-of-type {\n",
       "        vertical-align: middle;\n",
       "    }\n",
       "\n",
       "    .dataframe tbody tr th {\n",
       "        vertical-align: top;\n",
       "    }\n",
       "\n",
       "    .dataframe thead th {\n",
       "        text-align: right;\n",
       "    }\n",
       "</style>\n",
       "<table border=\"1\" class=\"dataframe\">\n",
       "  <thead>\n",
       "    <tr style=\"text-align: right;\">\n",
       "      <th></th>\n",
       "      <th>index</th>\n",
       "      <th>CID</th>\n",
       "      <th>SMILES</th>\n",
       "      <th>Image</th>\n",
       "      <th>Activity</th>\n",
       "      <th>is_valid</th>\n",
       "    </tr>\n",
       "  </thead>\n",
       "  <tbody>\n",
       "    <tr>\n",
       "      <th>0</th>\n",
       "      <td>5655</td>\n",
       "      <td>CHEMBL180157</td>\n",
       "      <td>Clc1ccc(cc1)CC(NC(=O)c1cc2c(nc1)cccc2)C(=O)N1CCN(CC1)c1ccccc1N(S(=O)(=O)C)CC1CC1</td>\n",
       "      <td>CHEMBL180157.png</td>\n",
       "      <td>0</td>\n",
       "      <td>True</td>\n",
       "    </tr>\n",
       "    <tr>\n",
       "      <th>1</th>\n",
       "      <td>687</td>\n",
       "      <td>CHEMBL400795</td>\n",
       "      <td>s1cnc(C)c1CCOc1cc2Cc3c([nH]nc3-c3ccc(nc3)C#N)-c2cc1OC</td>\n",
       "      <td>CHEMBL400795.png</td>\n",
       "      <td>0</td>\n",
       "      <td>True</td>\n",
       "    </tr>\n",
       "    <tr>\n",
       "      <th>2</th>\n",
       "      <td>4999</td>\n",
       "      <td>CHEMBL473186</td>\n",
       "      <td>Fc1c2c(cccc2)c(cc1)-c1nc(nc(c1)C(C)C)N</td>\n",
       "      <td>CHEMBL473186.png</td>\n",
       "      <td>0</td>\n",
       "      <td>False</td>\n",
       "    </tr>\n",
       "    <tr>\n",
       "      <th>3</th>\n",
       "      <td>2983</td>\n",
       "      <td>CHEMBL2374418</td>\n",
       "      <td>O1C(CO)C(O)C(O)C1n1c2nc(nc(N)c2nc1)NCCC1CCCC1</td>\n",
       "      <td>CHEMBL2374418.png</td>\n",
       "      <td>0</td>\n",
       "      <td>True</td>\n",
       "    </tr>\n",
       "    <tr>\n",
       "      <th>4</th>\n",
       "      <td>1924</td>\n",
       "      <td>CHEMBL1934527</td>\n",
       "      <td>S(=O)(=O)(CC1OCCCC1)c1ccc(cc1)-c1ccc(cc1)CC[NH+]1CCCC1C</td>\n",
       "      <td>CHEMBL1934527.png</td>\n",
       "      <td>0</td>\n",
       "      <td>False</td>\n",
       "    </tr>\n",
       "  </tbody>\n",
       "</table>\n",
       "</div>"
      ],
      "text/plain": [
       "   index            CID  \\\n",
       "0   5655   CHEMBL180157   \n",
       "1    687   CHEMBL400795   \n",
       "2   4999   CHEMBL473186   \n",
       "3   2983  CHEMBL2374418   \n",
       "4   1924  CHEMBL1934527   \n",
       "\n",
       "                                                                             SMILES  \\\n",
       "0  Clc1ccc(cc1)CC(NC(=O)c1cc2c(nc1)cccc2)C(=O)N1CCN(CC1)c1ccccc1N(S(=O)(=O)C)CC1CC1   \n",
       "1                             s1cnc(C)c1CCOc1cc2Cc3c([nH]nc3-c3ccc(nc3)C#N)-c2cc1OC   \n",
       "2                                            Fc1c2c(cccc2)c(cc1)-c1nc(nc(c1)C(C)C)N   \n",
       "3                                     O1C(CO)C(O)C(O)C1n1c2nc(nc(N)c2nc1)NCCC1CCCC1   \n",
       "4                           S(=O)(=O)(CC1OCCCC1)c1ccc(cc1)-c1ccc(cc1)CC[NH+]1CCCC1C   \n",
       "\n",
       "               Image  Activity is_valid  \n",
       "0   CHEMBL180157.png         0     True  \n",
       "1   CHEMBL400795.png         0     True  \n",
       "2   CHEMBL473186.png         0    False  \n",
       "3  CHEMBL2374418.png         0     True  \n",
       "4  CHEMBL1934527.png         0    False  "
      ]
     },
     "execution_count": 58,
     "metadata": {},
     "output_type": "execute_result"
    }
   ],
   "source": [
    "test_df.head()"
   ]
  },
  {
   "cell_type": "markdown",
   "metadata": {
    "hidden": true
   },
   "source": [
    "Each element of the dataset consists of an image (a `PILImage`) and a category (the corresponding activity label):"
   ]
  },
  {
   "cell_type": "code",
   "execution_count": 59,
   "metadata": {
    "hidden": true
   },
   "outputs": [
    {
     "data": {
      "text/plain": [
       "(PILImage mode=RGB size=500x500, TensorCategory(0))"
      ]
     },
     "execution_count": 59,
     "metadata": {},
     "output_type": "execute_result"
    }
   ],
   "source": [
    "test_dls.dataset[0]"
   ]
  },
  {
   "cell_type": "code",
   "execution_count": 60,
   "metadata": {
    "hidden": true
   },
   "outputs": [
    {
     "data": {
      "image/png": "[encoded data removed]",
      "text/plain": [
       "PILImage mode=RGB size=500x500"
      ]
     },
     "execution_count": 60,
     "metadata": {},
     "output_type": "execute_result"
    }
   ],
   "source": [
    "test_dls.dataset[0][0]"
   ]
  },
  {
   "cell_type": "code",
   "execution_count": 61,
   "metadata": {
    "hidden": true
   },
   "outputs": [],
   "source": [
    "def get_data(CID):\n",
    "    idx = test_df.loc[test_df.CID==CID].index[0]\n",
    "    print(idx)\n",
    "    return test_dls.dataset[idx]"
   ]
  },
  {
   "cell_type": "code",
   "execution_count": 62,
   "metadata": {
    "hidden": true
   },
   "outputs": [],
   "source": [
    "def get_activations(CID):\n",
    "    idx = df_nodupl.loc[df_nodupl.CID == CID].index[0]\n",
    "    data = get_data(CID)\n",
    "    img = data[0]\n",
    "    \n",
    "    with torch.no_grad(): \n",
    "        output = learn.predict(img)\n",
    "    acts = np.array(hook_output.stored.cpu())[0]\n",
    "\n",
    "    return list(acts)"
   ]
  },
  {
   "cell_type": "markdown",
   "metadata": {
    "hidden": true
   },
   "source": [
    "The below computation takes a while.. We can rather load results computed earlier:"
   ]
  },
  {
   "cell_type": "code",
   "execution_count": 106,
   "metadata": {
    "hidden": true
   },
   "outputs": [],
   "source": [
    "#df_acts = pd.read_csv('data/chembl1978_cnn_activations.csv')\n",
    "#df_acts.head()"
   ]
  },
  {
   "cell_type": "code",
   "execution_count": 63,
   "metadata": {
    "hidden": true
   },
   "outputs": [
    {
     "name": "stdout",
     "output_type": "stream",
     "text": [
      "CPU times: user 24min 8s, sys: 22.3 s, total: 24min 30s\n",
      "Wall time: 1min 32s\n"
     ]
    }
   ],
   "source": [
    "%%time\n",
    "%%capture\n",
    "df_nodupl['activations'] = df_nodupl.CID.apply(get_activations)"
   ]
  },
  {
   "cell_type": "markdown",
   "metadata": {
    "hidden": true
   },
   "source": [
    "Now we've stored activations for each image:"
   ]
  },
  {
   "cell_type": "code",
   "execution_count": 64,
   "metadata": {
    "hidden": true
   },
   "outputs": [
    {
     "data": {
      "text/html": [
       "<div>\n",
       "<style scoped>\n",
       "    .dataframe tbody tr th:only-of-type {\n",
       "        vertical-align: middle;\n",
       "    }\n",
       "\n",
       "    .dataframe tbody tr th {\n",
       "        vertical-align: top;\n",
       "    }\n",
       "\n",
       "    .dataframe thead th {\n",
       "        text-align: right;\n",
       "    }\n",
       "</style>\n",
       "<table border=\"1\" class=\"dataframe\">\n",
       "  <thead>\n",
       "    <tr style=\"text-align: right;\">\n",
       "      <th></th>\n",
       "      <th>CID</th>\n",
       "      <th>SMILES</th>\n",
       "      <th>Image</th>\n",
       "      <th>Activity</th>\n",
       "      <th>is_valid</th>\n",
       "      <th>activations</th>\n",
       "    </tr>\n",
       "  </thead>\n",
       "  <tbody>\n",
       "    <tr>\n",
       "      <th>0</th>\n",
       "      <td>CHEMBL1454842</td>\n",
       "      <td>s1nc(nc1-c1ccncc1)-c1ccncc1</td>\n",
       "      <td>CHEMBL1454842.png</td>\n",
       "      <td>1</td>\n",
       "      <td>True</td>\n",
       "      <td>[-6.184187, 1.4444413, 0.521848, 3.279325, 2.1758714, -3.622425, 0.19396251, -0.21029639, -4.0048776, -8.043223, -0.518915, 5.063404, -2.0837214, -2.9376814, -1.9549924, 1.1289828, -4.780456, -6.515083, -1.9355012, -3.503919, -0.4543544, 9.377184, -3.5737062, 6.1095676, -5.335267, 10.252796, 1.0168297, 2.2123225, 11.024843, 8.120278, 6.41325, 8.914105, 11.815174, -6.5244417, -7.3803015, -0.83202, 11.011935, 4.980705, -1.1987529, -3.386364, -2.8172069, 6.7828274, -5.5876365, 2.5186515, 8.564585, -1.8924102, 11.676276, -4.8863964, -3.4049675, 9.232604, -6.9650064, 1.4842341, -2.8685398, 0.70...</td>\n",
       "    </tr>\n",
       "    <tr>\n",
       "      <th>1</th>\n",
       "      <td>CHEMBL1939366</td>\n",
       "      <td>s1nc(nc1-c1cccnc1)-c1cccnc1</td>\n",
       "      <td>CHEMBL1939366.png</td>\n",
       "      <td>1</td>\n",
       "      <td>False</td>\n",
       "      <td>[-5.7409472, 2.3540854, 1.7673556, 5.295206, 7.6774397, -7.558473, -3.9700027, -0.5143206, -7.5064807, -7.109574, 1.1101311, 5.8202877, -3.6978326, -3.345647, -3.3418272, 3.6064825, -7.4744635, -5.564231, -6.6542726, -2.5185099, 2.7870357, 11.167856, -2.577325, 7.7280188, -9.864266, 13.808397, 2.248811, 4.625309, 12.003161, 8.536922, 8.689267, 12.117384, 15.552018, -3.9567611, -6.3115087, 1.5006623, 13.636204, 8.030262, -7.4689627, -2.4979975, -5.354964, 5.9168773, -3.0862699, 3.439574, 8.730666, -4.6508484, 11.409047, -2.5085616, -7.2829685, 10.752849, -11.400724, 5.0579033, -2.4669127, 1...</td>\n",
       "    </tr>\n",
       "    <tr>\n",
       "      <th>2</th>\n",
       "      <td>CHEMBL192155</td>\n",
       "      <td>s1cncc1\\C=C\\1/CCc2cc(OC)ccc/12</td>\n",
       "      <td>CHEMBL192155.png</td>\n",
       "      <td>1</td>\n",
       "      <td>True</td>\n",
       "      <td>[-5.756766, -0.4546344, 0.04205066, 0.3078282, -2.5595055, 5.279199, 5.035797, -4.6806936, 1.9669814, -6.2800922, -4.1548223, 4.0622077, 2.618632, -1.9932114, -1.891407, 0.15517163, 2.7460577, -3.110406, 4.9269743, -2.5240958, -0.4369572, 3.7696195, -4.976178, 0.07118696, 4.073591, -0.17857403, -0.45211774, -1.5893087, 3.268244, 1.7159326, 6.462378, 3.9982195, 4.511472, -9.30704, -1.2095838, -7.119926, 0.9931544, -2.4953759, 5.0792613, -4.178006, -1.1834445, 2.3542414, -4.834479, 4.2929616, 3.2756915, 1.8213415, 6.887765, -5.7386274, 2.255372, 3.8423886, 1.9276986, 3.5908468, -1.8244487, 1...</td>\n",
       "    </tr>\n",
       "    <tr>\n",
       "      <th>3</th>\n",
       "      <td>CHEMBL517816</td>\n",
       "      <td>s1cccc1CN(n1ncnc1)Cc1ccc(cc1)C(C)(C)C</td>\n",
       "      <td>CHEMBL517816.png</td>\n",
       "      <td>1</td>\n",
       "      <td>False</td>\n",
       "      <td>[1.2929709, 3.998208, 3.2907565, 7.458484, 2.7031574, -5.788347, -3.2932436, -5.454589, -7.2700686, -8.084206, -2.375199, 5.4174643, -3.9942052, -4.7686024, -1.2680446, -1.5132841, -7.092613, -7.758236, -2.333228, -3.2110057, 4.807523, 14.43173, -7.2173805, 12.829014, -9.402982, 14.026573, 2.3720548, -0.15979709, 8.61222, 13.161034, 2.4736075, 3.4227073, 9.975694, -6.715244, -7.8170605, 2.7941558, 14.773541, 3.8527815, -1.2558165, -1.0426623, 0.06799802, 2.043833, -4.2687564, -0.68117404, 9.702319, -3.718126, 12.105204, -3.221354, -7.011573, 9.972218, -9.315399, 2.141772, -6.1826377, -1.07...</td>\n",
       "    </tr>\n",
       "    <tr>\n",
       "      <th>4</th>\n",
       "      <td>CHEMBL523973</td>\n",
       "      <td>s1cccc1CN(n1ccnc1)Cc1ccc(cc1)C(C)(C)C</td>\n",
       "      <td>CHEMBL523973.png</td>\n",
       "      <td>1</td>\n",
       "      <td>False</td>\n",
       "      <td>[-0.9110375, 0.20199826, 1.3658652, 4.5987215, 3.9869099, -4.379489, -2.1974149, -5.90267, -7.6268516, -6.994688, -3.9651027, 3.4222183, -4.3296394, -6.2628274, -1.4178525, -1.0188286, -6.3266, -6.33528, -2.4668224, -3.7337787, 2.2271845, 14.919674, -7.278125, 10.962722, -7.678695, 12.403084, 1.845382, -2.9237444, 9.304751, 10.845649, 4.3577337, 5.3755026, 11.492593, -6.648832, -7.3447943, 0.027745247, 14.284081, 3.9999712, -0.45243067, -2.4012194, -0.025592, -0.34416962, -4.4080424, -2.0670383, 9.28961, -3.3665185, 9.459005, -2.3373148, -5.16068, 10.105173, -7.540802, 4.730282, -5.7070465...</td>\n",
       "    </tr>\n",
       "  </tbody>\n",
       "</table>\n",
       "</div>"
      ],
      "text/plain": [
       "             CID                                 SMILES              Image  \\\n",
       "0  CHEMBL1454842            s1nc(nc1-c1ccncc1)-c1ccncc1  CHEMBL1454842.png   \n",
       "1  CHEMBL1939366            s1nc(nc1-c1cccnc1)-c1cccnc1  CHEMBL1939366.png   \n",
       "2   CHEMBL192155         s1cncc1\\C=C\\1/CCc2cc(OC)ccc/12   CHEMBL192155.png   \n",
       "3   CHEMBL517816  s1cccc1CN(n1ncnc1)Cc1ccc(cc1)C(C)(C)C   CHEMBL517816.png   \n",
       "4   CHEMBL523973  s1cccc1CN(n1ccnc1)Cc1ccc(cc1)C(C)(C)C   CHEMBL523973.png   \n",
       "\n",
       "   Activity is_valid  \\\n",
       "0         1     True   \n",
       "1         1    False   \n",
       "2         1     True   \n",
       "3         1    False   \n",
       "4         1    False   \n",
       "\n",
       "                                                                                                                                                                                                                                                                                                                                                                                                                                                                                                                                                                                                               activations  \n",
       "0  [-6.184187, 1.4444413, 0.521848, 3.279325, 2.1758714, -3.622425, 0.19396251, -0.21029639, -4.0048776, -8.043223, -0.518915, 5.063404, -2.0837214, -2.9376814, -1.9549924, 1.1289828, -4.780456, -6.515083, -1.9355012, -3.503919, -0.4543544, 9.377184, -3.5737062, 6.1095676, -5.335267, 10.252796, 1.0168297, 2.2123225, 11.024843, 8.120278, 6.41325, 8.914105, 11.815174, -6.5244417, -7.3803015, -0.83202, 11.011935, 4.980705, -1.1987529, -3.386364, -2.8172069, 6.7828274, -5.5876365, 2.5186515, 8.564585, -1.8924102, 11.676276, -4.8863964, -3.4049675, 9.232604, -6.9650064, 1.4842341, -2.8685398, 0.70...  \n",
       "1  [-5.7409472, 2.3540854, 1.7673556, 5.295206, 7.6774397, -7.558473, -3.9700027, -0.5143206, -7.5064807, -7.109574, 1.1101311, 5.8202877, -3.6978326, -3.345647, -3.3418272, 3.6064825, -7.4744635, -5.564231, -6.6542726, -2.5185099, 2.7870357, 11.167856, -2.577325, 7.7280188, -9.864266, 13.808397, 2.248811, 4.625309, 12.003161, 8.536922, 8.689267, 12.117384, 15.552018, -3.9567611, -6.3115087, 1.5006623, 13.636204, 8.030262, -7.4689627, -2.4979975, -5.354964, 5.9168773, -3.0862699, 3.439574, 8.730666, -4.6508484, 11.409047, -2.5085616, -7.2829685, 10.752849, -11.400724, 5.0579033, -2.4669127, 1...  \n",
       "2  [-5.756766, -0.4546344, 0.04205066, 0.3078282, -2.5595055, 5.279199, 5.035797, -4.6806936, 1.9669814, -6.2800922, -4.1548223, 4.0622077, 2.618632, -1.9932114, -1.891407, 0.15517163, 2.7460577, -3.110406, 4.9269743, -2.5240958, -0.4369572, 3.7696195, -4.976178, 0.07118696, 4.073591, -0.17857403, -0.45211774, -1.5893087, 3.268244, 1.7159326, 6.462378, 3.9982195, 4.511472, -9.30704, -1.2095838, -7.119926, 0.9931544, -2.4953759, 5.0792613, -4.178006, -1.1834445, 2.3542414, -4.834479, 4.2929616, 3.2756915, 1.8213415, 6.887765, -5.7386274, 2.255372, 3.8423886, 1.9276986, 3.5908468, -1.8244487, 1...  \n",
       "3  [1.2929709, 3.998208, 3.2907565, 7.458484, 2.7031574, -5.788347, -3.2932436, -5.454589, -7.2700686, -8.084206, -2.375199, 5.4174643, -3.9942052, -4.7686024, -1.2680446, -1.5132841, -7.092613, -7.758236, -2.333228, -3.2110057, 4.807523, 14.43173, -7.2173805, 12.829014, -9.402982, 14.026573, 2.3720548, -0.15979709, 8.61222, 13.161034, 2.4736075, 3.4227073, 9.975694, -6.715244, -7.8170605, 2.7941558, 14.773541, 3.8527815, -1.2558165, -1.0426623, 0.06799802, 2.043833, -4.2687564, -0.68117404, 9.702319, -3.718126, 12.105204, -3.221354, -7.011573, 9.972218, -9.315399, 2.141772, -6.1826377, -1.07...  \n",
       "4  [-0.9110375, 0.20199826, 1.3658652, 4.5987215, 3.9869099, -4.379489, -2.1974149, -5.90267, -7.6268516, -6.994688, -3.9651027, 3.4222183, -4.3296394, -6.2628274, -1.4178525, -1.0188286, -6.3266, -6.33528, -2.4668224, -3.7337787, 2.2271845, 14.919674, -7.278125, 10.962722, -7.678695, 12.403084, 1.845382, -2.9237444, 9.304751, 10.845649, 4.3577337, 5.3755026, 11.492593, -6.648832, -7.3447943, 0.027745247, 14.284081, 3.9999712, -0.45243067, -2.4012194, -0.025592, -0.34416962, -4.4080424, -2.0670383, 9.28961, -3.3665185, 9.459005, -2.3373148, -5.16068, 10.105173, -7.540802, 4.730282, -5.7070465...  "
      ]
     },
     "execution_count": 64,
     "metadata": {},
     "output_type": "execute_result"
    }
   ],
   "source": [
    "df_nodupl.head()"
   ]
  },
  {
   "cell_type": "markdown",
   "metadata": {
    "hidden": true
   },
   "source": [
    "We split the activations to have one column for each, as they will be treated as separate features later:"
   ]
  },
  {
   "cell_type": "code",
   "execution_count": 65,
   "metadata": {
    "hidden": true
   },
   "outputs": [],
   "source": [
    "df_acts = pd.concat([df_nodupl, pd.DataFrame(df_nodupl.activations.values.tolist()).add_prefix('act_')], axis=1)"
   ]
  },
  {
   "cell_type": "code",
   "execution_count": 66,
   "metadata": {
    "hidden": true
   },
   "outputs": [],
   "source": [
    "df_acts.drop('activations', axis=1, inplace=True)"
   ]
  },
  {
   "cell_type": "markdown",
   "metadata": {
    "hidden": true
   },
   "source": [
    "Here's the result:"
   ]
  },
  {
   "cell_type": "code",
   "execution_count": 67,
   "metadata": {
    "hidden": true
   },
   "outputs": [
    {
     "data": {
      "text/html": [
       "<div>\n",
       "<style scoped>\n",
       "    .dataframe tbody tr th:only-of-type {\n",
       "        vertical-align: middle;\n",
       "    }\n",
       "\n",
       "    .dataframe tbody tr th {\n",
       "        vertical-align: top;\n",
       "    }\n",
       "\n",
       "    .dataframe thead th {\n",
       "        text-align: right;\n",
       "    }\n",
       "</style>\n",
       "<table border=\"1\" class=\"dataframe\">\n",
       "  <thead>\n",
       "    <tr style=\"text-align: right;\">\n",
       "      <th></th>\n",
       "      <th>CID</th>\n",
       "      <th>SMILES</th>\n",
       "      <th>Image</th>\n",
       "      <th>Activity</th>\n",
       "      <th>is_valid</th>\n",
       "      <th>act_0</th>\n",
       "      <th>act_1</th>\n",
       "      <th>act_2</th>\n",
       "      <th>act_3</th>\n",
       "      <th>act_4</th>\n",
       "      <th>...</th>\n",
       "      <th>act_118</th>\n",
       "      <th>act_119</th>\n",
       "      <th>act_120</th>\n",
       "      <th>act_121</th>\n",
       "      <th>act_122</th>\n",
       "      <th>act_123</th>\n",
       "      <th>act_124</th>\n",
       "      <th>act_125</th>\n",
       "      <th>act_126</th>\n",
       "      <th>act_127</th>\n",
       "    </tr>\n",
       "  </thead>\n",
       "  <tbody>\n",
       "    <tr>\n",
       "      <th>0</th>\n",
       "      <td>CHEMBL1454842</td>\n",
       "      <td>s1nc(nc1-c1ccncc1)-c1ccncc1</td>\n",
       "      <td>CHEMBL1454842.png</td>\n",
       "      <td>1</td>\n",
       "      <td>True</td>\n",
       "      <td>-6.184187</td>\n",
       "      <td>1.444441</td>\n",
       "      <td>0.521848</td>\n",
       "      <td>3.279325</td>\n",
       "      <td>2.175871</td>\n",
       "      <td>...</td>\n",
       "      <td>-0.253255</td>\n",
       "      <td>7.728647</td>\n",
       "      <td>4.196553</td>\n",
       "      <td>7.744170</td>\n",
       "      <td>2.833343</td>\n",
       "      <td>-5.833090</td>\n",
       "      <td>2.175440</td>\n",
       "      <td>9.715018</td>\n",
       "      <td>-6.697997</td>\n",
       "      <td>-3.916421</td>\n",
       "    </tr>\n",
       "    <tr>\n",
       "      <th>1</th>\n",
       "      <td>CHEMBL1939366</td>\n",
       "      <td>s1nc(nc1-c1cccnc1)-c1cccnc1</td>\n",
       "      <td>CHEMBL1939366.png</td>\n",
       "      <td>1</td>\n",
       "      <td>False</td>\n",
       "      <td>-5.740947</td>\n",
       "      <td>2.354085</td>\n",
       "      <td>1.767356</td>\n",
       "      <td>5.295206</td>\n",
       "      <td>7.677440</td>\n",
       "      <td>...</td>\n",
       "      <td>3.305871</td>\n",
       "      <td>8.696218</td>\n",
       "      <td>4.001807</td>\n",
       "      <td>9.674870</td>\n",
       "      <td>3.959525</td>\n",
       "      <td>-4.367425</td>\n",
       "      <td>5.987826</td>\n",
       "      <td>11.699579</td>\n",
       "      <td>-9.215359</td>\n",
       "      <td>-5.988041</td>\n",
       "    </tr>\n",
       "    <tr>\n",
       "      <th>2</th>\n",
       "      <td>CHEMBL192155</td>\n",
       "      <td>s1cncc1\\C=C\\1/CCc2cc(OC)ccc/12</td>\n",
       "      <td>CHEMBL192155.png</td>\n",
       "      <td>1</td>\n",
       "      <td>True</td>\n",
       "      <td>-5.756766</td>\n",
       "      <td>-0.454634</td>\n",
       "      <td>0.042051</td>\n",
       "      <td>0.307828</td>\n",
       "      <td>-2.559505</td>\n",
       "      <td>...</td>\n",
       "      <td>-1.710156</td>\n",
       "      <td>0.551617</td>\n",
       "      <td>3.877632</td>\n",
       "      <td>3.636263</td>\n",
       "      <td>1.602630</td>\n",
       "      <td>-4.822006</td>\n",
       "      <td>-3.375687</td>\n",
       "      <td>4.011164</td>\n",
       "      <td>2.491900</td>\n",
       "      <td>2.675303</td>\n",
       "    </tr>\n",
       "    <tr>\n",
       "      <th>3</th>\n",
       "      <td>CHEMBL517816</td>\n",
       "      <td>s1cccc1CN(n1ncnc1)Cc1ccc(cc1)C(C)(C)C</td>\n",
       "      <td>CHEMBL517816.png</td>\n",
       "      <td>1</td>\n",
       "      <td>False</td>\n",
       "      <td>1.292971</td>\n",
       "      <td>3.998208</td>\n",
       "      <td>3.290756</td>\n",
       "      <td>7.458484</td>\n",
       "      <td>2.703157</td>\n",
       "      <td>...</td>\n",
       "      <td>6.483366</td>\n",
       "      <td>17.466084</td>\n",
       "      <td>0.221648</td>\n",
       "      <td>11.706307</td>\n",
       "      <td>0.246143</td>\n",
       "      <td>-7.070720</td>\n",
       "      <td>11.904807</td>\n",
       "      <td>13.065377</td>\n",
       "      <td>-4.679908</td>\n",
       "      <td>-5.611359</td>\n",
       "    </tr>\n",
       "    <tr>\n",
       "      <th>4</th>\n",
       "      <td>CHEMBL523973</td>\n",
       "      <td>s1cccc1CN(n1ccnc1)Cc1ccc(cc1)C(C)(C)C</td>\n",
       "      <td>CHEMBL523973.png</td>\n",
       "      <td>1</td>\n",
       "      <td>False</td>\n",
       "      <td>-0.911038</td>\n",
       "      <td>0.201998</td>\n",
       "      <td>1.365865</td>\n",
       "      <td>4.598722</td>\n",
       "      <td>3.986910</td>\n",
       "      <td>...</td>\n",
       "      <td>3.851789</td>\n",
       "      <td>15.585896</td>\n",
       "      <td>1.355715</td>\n",
       "      <td>11.832880</td>\n",
       "      <td>-0.197730</td>\n",
       "      <td>-6.419633</td>\n",
       "      <td>9.892677</td>\n",
       "      <td>14.316216</td>\n",
       "      <td>-4.364078</td>\n",
       "      <td>-4.033681</td>\n",
       "    </tr>\n",
       "  </tbody>\n",
       "</table>\n",
       "<p>5 rows × 133 columns</p>\n",
       "</div>"
      ],
      "text/plain": [
       "             CID                                 SMILES              Image  \\\n",
       "0  CHEMBL1454842            s1nc(nc1-c1ccncc1)-c1ccncc1  CHEMBL1454842.png   \n",
       "1  CHEMBL1939366            s1nc(nc1-c1cccnc1)-c1cccnc1  CHEMBL1939366.png   \n",
       "2   CHEMBL192155         s1cncc1\\C=C\\1/CCc2cc(OC)ccc/12   CHEMBL192155.png   \n",
       "3   CHEMBL517816  s1cccc1CN(n1ncnc1)Cc1ccc(cc1)C(C)(C)C   CHEMBL517816.png   \n",
       "4   CHEMBL523973  s1cccc1CN(n1ccnc1)Cc1ccc(cc1)C(C)(C)C   CHEMBL523973.png   \n",
       "\n",
       "   Activity is_valid     act_0     act_1     act_2     act_3     act_4  ...  \\\n",
       "0         1     True -6.184187  1.444441  0.521848  3.279325  2.175871  ...   \n",
       "1         1    False -5.740947  2.354085  1.767356  5.295206  7.677440  ...   \n",
       "2         1     True -5.756766 -0.454634  0.042051  0.307828 -2.559505  ...   \n",
       "3         1    False  1.292971  3.998208  3.290756  7.458484  2.703157  ...   \n",
       "4         1    False -0.911038  0.201998  1.365865  4.598722  3.986910  ...   \n",
       "\n",
       "    act_118    act_119   act_120    act_121   act_122   act_123    act_124  \\\n",
       "0 -0.253255   7.728647  4.196553   7.744170  2.833343 -5.833090   2.175440   \n",
       "1  3.305871   8.696218  4.001807   9.674870  3.959525 -4.367425   5.987826   \n",
       "2 -1.710156   0.551617  3.877632   3.636263  1.602630 -4.822006  -3.375687   \n",
       "3  6.483366  17.466084  0.221648  11.706307  0.246143 -7.070720  11.904807   \n",
       "4  3.851789  15.585896  1.355715  11.832880 -0.197730 -6.419633   9.892677   \n",
       "\n",
       "     act_125   act_126   act_127  \n",
       "0   9.715018 -6.697997 -3.916421  \n",
       "1  11.699579 -9.215359 -5.988041  \n",
       "2   4.011164  2.491900  2.675303  \n",
       "3  13.065377 -4.679908 -5.611359  \n",
       "4  14.316216 -4.364078 -4.033681  \n",
       "\n",
       "[5 rows x 133 columns]"
      ]
     },
     "execution_count": 67,
     "metadata": {},
     "output_type": "execute_result"
    }
   ],
   "source": [
    "df_acts.head()"
   ]
  },
  {
   "cell_type": "code",
   "execution_count": 68,
   "metadata": {
    "hidden": true
   },
   "outputs": [
    {
     "name": "stdout",
     "output_type": "stream",
     "text": [
      "<class 'pandas.core.frame.DataFrame'>\n",
      "RangeIndex: 6831 entries, 0 to 6830\n",
      "Columns: 133 entries, CID to act_127\n",
      "dtypes: float32(128), int64(1), object(4)\n",
      "memory usage: 3.6+ MB\n"
     ]
    }
   ],
   "source": [
    "df_acts.info()"
   ]
  },
  {
   "cell_type": "code",
   "execution_count": 69,
   "metadata": {
    "hidden": true
   },
   "outputs": [],
   "source": [
    "df_acts.to_csv('data/chembl1978_cnn_activations.csv', index=None)"
   ]
  },
  {
   "cell_type": "markdown",
   "metadata": {
    "heading_collapsed": true
   },
   "source": [
    "# Add molecular fingerprints"
   ]
  },
  {
   "cell_type": "markdown",
   "metadata": {
    "hidden": true
   },
   "source": [
    "When training the random forest below, we'll compare the results obtained by using _molecular fingerprints_ as features describing molecules. See the notebook `dev-noteboos/DL-Example-3-get_molecular_fingerprints_and_images.ipynb` for the code to generate fingerprints."
   ]
  },
  {
   "cell_type": "code",
   "execution_count": 70,
   "metadata": {
    "hidden": true
   },
   "outputs": [],
   "source": [
    "df_ecfp = pd.read_csv(LOCALDATA/'CHEMBL1978_cl_ecfp_1024.csv')"
   ]
  },
  {
   "cell_type": "code",
   "execution_count": 71,
   "metadata": {
    "hidden": true
   },
   "outputs": [
    {
     "data": {
      "text/html": [
       "<div>\n",
       "<style scoped>\n",
       "    .dataframe tbody tr th:only-of-type {\n",
       "        vertical-align: middle;\n",
       "    }\n",
       "\n",
       "    .dataframe tbody tr th {\n",
       "        vertical-align: top;\n",
       "    }\n",
       "\n",
       "    .dataframe thead th {\n",
       "        text-align: right;\n",
       "    }\n",
       "</style>\n",
       "<table border=\"1\" class=\"dataframe\">\n",
       "  <thead>\n",
       "    <tr style=\"text-align: right;\">\n",
       "      <th></th>\n",
       "      <th>CID</th>\n",
       "      <th>SMILES</th>\n",
       "      <th>Activity</th>\n",
       "      <th>ECFP4_1</th>\n",
       "      <th>ECFP4_2</th>\n",
       "      <th>ECFP4_3</th>\n",
       "      <th>ECFP4_4</th>\n",
       "      <th>ECFP4_5</th>\n",
       "      <th>ECFP4_6</th>\n",
       "      <th>ECFP4_7</th>\n",
       "      <th>...</th>\n",
       "      <th>ECFP4_1015</th>\n",
       "      <th>ECFP4_1016</th>\n",
       "      <th>ECFP4_1017</th>\n",
       "      <th>ECFP4_1018</th>\n",
       "      <th>ECFP4_1019</th>\n",
       "      <th>ECFP4_1020</th>\n",
       "      <th>ECFP4_1021</th>\n",
       "      <th>ECFP4_1022</th>\n",
       "      <th>ECFP4_1023</th>\n",
       "      <th>ECFP4_1024</th>\n",
       "    </tr>\n",
       "  </thead>\n",
       "  <tbody>\n",
       "    <tr>\n",
       "      <th>0</th>\n",
       "      <td>CHEMBL1454842</td>\n",
       "      <td>s1nc(nc1-c1ccncc1)-c1ccncc1</td>\n",
       "      <td>1</td>\n",
       "      <td>0</td>\n",
       "      <td>0</td>\n",
       "      <td>0</td>\n",
       "      <td>0</td>\n",
       "      <td>0</td>\n",
       "      <td>0</td>\n",
       "      <td>0</td>\n",
       "      <td>...</td>\n",
       "      <td>0</td>\n",
       "      <td>0</td>\n",
       "      <td>0</td>\n",
       "      <td>0</td>\n",
       "      <td>0</td>\n",
       "      <td>0</td>\n",
       "      <td>0</td>\n",
       "      <td>0</td>\n",
       "      <td>0</td>\n",
       "      <td>0</td>\n",
       "    </tr>\n",
       "    <tr>\n",
       "      <th>1</th>\n",
       "      <td>CHEMBL1939366</td>\n",
       "      <td>s1nc(nc1-c1cccnc1)-c1cccnc1</td>\n",
       "      <td>1</td>\n",
       "      <td>0</td>\n",
       "      <td>0</td>\n",
       "      <td>0</td>\n",
       "      <td>0</td>\n",
       "      <td>0</td>\n",
       "      <td>0</td>\n",
       "      <td>0</td>\n",
       "      <td>...</td>\n",
       "      <td>0</td>\n",
       "      <td>0</td>\n",
       "      <td>0</td>\n",
       "      <td>0</td>\n",
       "      <td>0</td>\n",
       "      <td>0</td>\n",
       "      <td>0</td>\n",
       "      <td>0</td>\n",
       "      <td>0</td>\n",
       "      <td>0</td>\n",
       "    </tr>\n",
       "    <tr>\n",
       "      <th>2</th>\n",
       "      <td>CHEMBL192155</td>\n",
       "      <td>s1cncc1\\C=C\\1/CCc2cc(OC)ccc/12</td>\n",
       "      <td>1</td>\n",
       "      <td>0</td>\n",
       "      <td>0</td>\n",
       "      <td>0</td>\n",
       "      <td>0</td>\n",
       "      <td>0</td>\n",
       "      <td>0</td>\n",
       "      <td>0</td>\n",
       "      <td>...</td>\n",
       "      <td>0</td>\n",
       "      <td>0</td>\n",
       "      <td>0</td>\n",
       "      <td>0</td>\n",
       "      <td>0</td>\n",
       "      <td>0</td>\n",
       "      <td>0</td>\n",
       "      <td>0</td>\n",
       "      <td>0</td>\n",
       "      <td>0</td>\n",
       "    </tr>\n",
       "    <tr>\n",
       "      <th>3</th>\n",
       "      <td>CHEMBL517816</td>\n",
       "      <td>s1cccc1CN(n1ncnc1)Cc1ccc(cc1)C(C)(C)C</td>\n",
       "      <td>1</td>\n",
       "      <td>0</td>\n",
       "      <td>0</td>\n",
       "      <td>0</td>\n",
       "      <td>0</td>\n",
       "      <td>0</td>\n",
       "      <td>0</td>\n",
       "      <td>0</td>\n",
       "      <td>...</td>\n",
       "      <td>0</td>\n",
       "      <td>0</td>\n",
       "      <td>0</td>\n",
       "      <td>0</td>\n",
       "      <td>0</td>\n",
       "      <td>0</td>\n",
       "      <td>0</td>\n",
       "      <td>0</td>\n",
       "      <td>0</td>\n",
       "      <td>0</td>\n",
       "    </tr>\n",
       "    <tr>\n",
       "      <th>4</th>\n",
       "      <td>CHEMBL523973</td>\n",
       "      <td>s1cccc1CN(n1ccnc1)Cc1ccc(cc1)C(C)(C)C</td>\n",
       "      <td>1</td>\n",
       "      <td>0</td>\n",
       "      <td>0</td>\n",
       "      <td>0</td>\n",
       "      <td>0</td>\n",
       "      <td>0</td>\n",
       "      <td>0</td>\n",
       "      <td>0</td>\n",
       "      <td>...</td>\n",
       "      <td>0</td>\n",
       "      <td>0</td>\n",
       "      <td>0</td>\n",
       "      <td>0</td>\n",
       "      <td>0</td>\n",
       "      <td>0</td>\n",
       "      <td>0</td>\n",
       "      <td>0</td>\n",
       "      <td>0</td>\n",
       "      <td>0</td>\n",
       "    </tr>\n",
       "  </tbody>\n",
       "</table>\n",
       "<p>5 rows × 1027 columns</p>\n",
       "</div>"
      ],
      "text/plain": [
       "             CID                                 SMILES  Activity  ECFP4_1  \\\n",
       "0  CHEMBL1454842            s1nc(nc1-c1ccncc1)-c1ccncc1         1        0   \n",
       "1  CHEMBL1939366            s1nc(nc1-c1cccnc1)-c1cccnc1         1        0   \n",
       "2   CHEMBL192155         s1cncc1\\C=C\\1/CCc2cc(OC)ccc/12         1        0   \n",
       "3   CHEMBL517816  s1cccc1CN(n1ncnc1)Cc1ccc(cc1)C(C)(C)C         1        0   \n",
       "4   CHEMBL523973  s1cccc1CN(n1ccnc1)Cc1ccc(cc1)C(C)(C)C         1        0   \n",
       "\n",
       "   ECFP4_2  ECFP4_3  ECFP4_4  ECFP4_5  ECFP4_6  ECFP4_7  ...  ECFP4_1015  \\\n",
       "0        0        0        0        0        0        0  ...           0   \n",
       "1        0        0        0        0        0        0  ...           0   \n",
       "2        0        0        0        0        0        0  ...           0   \n",
       "3        0        0        0        0        0        0  ...           0   \n",
       "4        0        0        0        0        0        0  ...           0   \n",
       "\n",
       "   ECFP4_1016  ECFP4_1017  ECFP4_1018  ECFP4_1019  ECFP4_1020  ECFP4_1021  \\\n",
       "0           0           0           0           0           0           0   \n",
       "1           0           0           0           0           0           0   \n",
       "2           0           0           0           0           0           0   \n",
       "3           0           0           0           0           0           0   \n",
       "4           0           0           0           0           0           0   \n",
       "\n",
       "   ECFP4_1022  ECFP4_1023  ECFP4_1024  \n",
       "0           0           0           0  \n",
       "1           0           0           0  \n",
       "2           0           0           0  \n",
       "3           0           0           0  \n",
       "4           0           0           0  \n",
       "\n",
       "[5 rows x 1027 columns]"
      ]
     },
     "execution_count": 71,
     "metadata": {},
     "output_type": "execute_result"
    }
   ],
   "source": [
    "df_ecfp.head()"
   ]
  },
  {
   "cell_type": "code",
   "execution_count": 72,
   "metadata": {
    "hidden": true
   },
   "outputs": [
    {
     "name": "stdout",
     "output_type": "stream",
     "text": [
      "<class 'pandas.core.frame.DataFrame'>\n",
      "RangeIndex: 6831 entries, 0 to 6830\n",
      "Columns: 1027 entries, CID to ECFP4_1024\n",
      "dtypes: int64(1025), object(2)\n",
      "memory usage: 53.5+ MB\n"
     ]
    }
   ],
   "source": [
    "df_ecfp.info()"
   ]
  },
  {
   "cell_type": "code",
   "execution_count": 73,
   "metadata": {
    "hidden": true
   },
   "outputs": [
    {
     "name": "stdout",
     "output_type": "stream",
     "text": [
      "<class 'pandas.core.frame.DataFrame'>\n",
      "RangeIndex: 6831 entries, 0 to 6830\n",
      "Columns: 133 entries, CID to act_127\n",
      "dtypes: float32(128), int64(1), object(4)\n",
      "memory usage: 3.6+ MB\n"
     ]
    }
   ],
   "source": [
    "df_acts.info()"
   ]
  },
  {
   "cell_type": "code",
   "execution_count": 74,
   "metadata": {
    "hidden": true
   },
   "outputs": [],
   "source": [
    "df = df_ecfp.merge(df_acts, on='CID')"
   ]
  },
  {
   "cell_type": "code",
   "execution_count": 75,
   "metadata": {
    "hidden": true
   },
   "outputs": [
    {
     "data": {
      "text/html": [
       "<div>\n",
       "<style scoped>\n",
       "    .dataframe tbody tr th:only-of-type {\n",
       "        vertical-align: middle;\n",
       "    }\n",
       "\n",
       "    .dataframe tbody tr th {\n",
       "        vertical-align: top;\n",
       "    }\n",
       "\n",
       "    .dataframe thead th {\n",
       "        text-align: right;\n",
       "    }\n",
       "</style>\n",
       "<table border=\"1\" class=\"dataframe\">\n",
       "  <thead>\n",
       "    <tr style=\"text-align: right;\">\n",
       "      <th></th>\n",
       "      <th>CID</th>\n",
       "      <th>SMILES_x</th>\n",
       "      <th>Activity_x</th>\n",
       "      <th>ECFP4_1</th>\n",
       "      <th>ECFP4_2</th>\n",
       "      <th>ECFP4_3</th>\n",
       "      <th>ECFP4_4</th>\n",
       "      <th>ECFP4_5</th>\n",
       "      <th>ECFP4_6</th>\n",
       "      <th>ECFP4_7</th>\n",
       "      <th>...</th>\n",
       "      <th>act_118</th>\n",
       "      <th>act_119</th>\n",
       "      <th>act_120</th>\n",
       "      <th>act_121</th>\n",
       "      <th>act_122</th>\n",
       "      <th>act_123</th>\n",
       "      <th>act_124</th>\n",
       "      <th>act_125</th>\n",
       "      <th>act_126</th>\n",
       "      <th>act_127</th>\n",
       "    </tr>\n",
       "  </thead>\n",
       "  <tbody>\n",
       "    <tr>\n",
       "      <th>0</th>\n",
       "      <td>CHEMBL1454842</td>\n",
       "      <td>s1nc(nc1-c1ccncc1)-c1ccncc1</td>\n",
       "      <td>1</td>\n",
       "      <td>0</td>\n",
       "      <td>0</td>\n",
       "      <td>0</td>\n",
       "      <td>0</td>\n",
       "      <td>0</td>\n",
       "      <td>0</td>\n",
       "      <td>0</td>\n",
       "      <td>...</td>\n",
       "      <td>-0.253255</td>\n",
       "      <td>7.728647</td>\n",
       "      <td>4.196553</td>\n",
       "      <td>7.744170</td>\n",
       "      <td>2.833343</td>\n",
       "      <td>-5.833090</td>\n",
       "      <td>2.175440</td>\n",
       "      <td>9.715018</td>\n",
       "      <td>-6.697997</td>\n",
       "      <td>-3.916421</td>\n",
       "    </tr>\n",
       "    <tr>\n",
       "      <th>1</th>\n",
       "      <td>CHEMBL1939366</td>\n",
       "      <td>s1nc(nc1-c1cccnc1)-c1cccnc1</td>\n",
       "      <td>1</td>\n",
       "      <td>0</td>\n",
       "      <td>0</td>\n",
       "      <td>0</td>\n",
       "      <td>0</td>\n",
       "      <td>0</td>\n",
       "      <td>0</td>\n",
       "      <td>0</td>\n",
       "      <td>...</td>\n",
       "      <td>3.305871</td>\n",
       "      <td>8.696218</td>\n",
       "      <td>4.001807</td>\n",
       "      <td>9.674870</td>\n",
       "      <td>3.959525</td>\n",
       "      <td>-4.367425</td>\n",
       "      <td>5.987826</td>\n",
       "      <td>11.699579</td>\n",
       "      <td>-9.215359</td>\n",
       "      <td>-5.988041</td>\n",
       "    </tr>\n",
       "    <tr>\n",
       "      <th>2</th>\n",
       "      <td>CHEMBL192155</td>\n",
       "      <td>s1cncc1\\C=C\\1/CCc2cc(OC)ccc/12</td>\n",
       "      <td>1</td>\n",
       "      <td>0</td>\n",
       "      <td>0</td>\n",
       "      <td>0</td>\n",
       "      <td>0</td>\n",
       "      <td>0</td>\n",
       "      <td>0</td>\n",
       "      <td>0</td>\n",
       "      <td>...</td>\n",
       "      <td>-1.710156</td>\n",
       "      <td>0.551617</td>\n",
       "      <td>3.877632</td>\n",
       "      <td>3.636263</td>\n",
       "      <td>1.602630</td>\n",
       "      <td>-4.822006</td>\n",
       "      <td>-3.375687</td>\n",
       "      <td>4.011164</td>\n",
       "      <td>2.491900</td>\n",
       "      <td>2.675303</td>\n",
       "    </tr>\n",
       "    <tr>\n",
       "      <th>3</th>\n",
       "      <td>CHEMBL517816</td>\n",
       "      <td>s1cccc1CN(n1ncnc1)Cc1ccc(cc1)C(C)(C)C</td>\n",
       "      <td>1</td>\n",
       "      <td>0</td>\n",
       "      <td>0</td>\n",
       "      <td>0</td>\n",
       "      <td>0</td>\n",
       "      <td>0</td>\n",
       "      <td>0</td>\n",
       "      <td>0</td>\n",
       "      <td>...</td>\n",
       "      <td>6.483366</td>\n",
       "      <td>17.466084</td>\n",
       "      <td>0.221648</td>\n",
       "      <td>11.706307</td>\n",
       "      <td>0.246143</td>\n",
       "      <td>-7.070720</td>\n",
       "      <td>11.904807</td>\n",
       "      <td>13.065377</td>\n",
       "      <td>-4.679908</td>\n",
       "      <td>-5.611359</td>\n",
       "    </tr>\n",
       "    <tr>\n",
       "      <th>4</th>\n",
       "      <td>CHEMBL523973</td>\n",
       "      <td>s1cccc1CN(n1ccnc1)Cc1ccc(cc1)C(C)(C)C</td>\n",
       "      <td>1</td>\n",
       "      <td>0</td>\n",
       "      <td>0</td>\n",
       "      <td>0</td>\n",
       "      <td>0</td>\n",
       "      <td>0</td>\n",
       "      <td>0</td>\n",
       "      <td>0</td>\n",
       "      <td>...</td>\n",
       "      <td>3.851789</td>\n",
       "      <td>15.585896</td>\n",
       "      <td>1.355715</td>\n",
       "      <td>11.832880</td>\n",
       "      <td>-0.197730</td>\n",
       "      <td>-6.419633</td>\n",
       "      <td>9.892677</td>\n",
       "      <td>14.316216</td>\n",
       "      <td>-4.364078</td>\n",
       "      <td>-4.033681</td>\n",
       "    </tr>\n",
       "  </tbody>\n",
       "</table>\n",
       "<p>5 rows × 1159 columns</p>\n",
       "</div>"
      ],
      "text/plain": [
       "             CID                               SMILES_x  Activity_x  ECFP4_1  \\\n",
       "0  CHEMBL1454842            s1nc(nc1-c1ccncc1)-c1ccncc1           1        0   \n",
       "1  CHEMBL1939366            s1nc(nc1-c1cccnc1)-c1cccnc1           1        0   \n",
       "2   CHEMBL192155         s1cncc1\\C=C\\1/CCc2cc(OC)ccc/12           1        0   \n",
       "3   CHEMBL517816  s1cccc1CN(n1ncnc1)Cc1ccc(cc1)C(C)(C)C           1        0   \n",
       "4   CHEMBL523973  s1cccc1CN(n1ccnc1)Cc1ccc(cc1)C(C)(C)C           1        0   \n",
       "\n",
       "   ECFP4_2  ECFP4_3  ECFP4_4  ECFP4_5  ECFP4_6  ECFP4_7  ...   act_118  \\\n",
       "0        0        0        0        0        0        0  ... -0.253255   \n",
       "1        0        0        0        0        0        0  ...  3.305871   \n",
       "2        0        0        0        0        0        0  ... -1.710156   \n",
       "3        0        0        0        0        0        0  ...  6.483366   \n",
       "4        0        0        0        0        0        0  ...  3.851789   \n",
       "\n",
       "     act_119   act_120    act_121   act_122   act_123    act_124    act_125  \\\n",
       "0   7.728647  4.196553   7.744170  2.833343 -5.833090   2.175440   9.715018   \n",
       "1   8.696218  4.001807   9.674870  3.959525 -4.367425   5.987826  11.699579   \n",
       "2   0.551617  3.877632   3.636263  1.602630 -4.822006  -3.375687   4.011164   \n",
       "3  17.466084  0.221648  11.706307  0.246143 -7.070720  11.904807  13.065377   \n",
       "4  15.585896  1.355715  11.832880 -0.197730 -6.419633   9.892677  14.316216   \n",
       "\n",
       "    act_126   act_127  \n",
       "0 -6.697997 -3.916421  \n",
       "1 -9.215359 -5.988041  \n",
       "2  2.491900  2.675303  \n",
       "3 -4.679908 -5.611359  \n",
       "4 -4.364078 -4.033681  \n",
       "\n",
       "[5 rows x 1159 columns]"
      ]
     },
     "execution_count": 75,
     "metadata": {},
     "output_type": "execute_result"
    }
   ],
   "source": [
    "df.head()"
   ]
  },
  {
   "cell_type": "code",
   "execution_count": 76,
   "metadata": {
    "hidden": true
   },
   "outputs": [],
   "source": [
    "df.drop(['SMILES_y', \"Activity_y\"], axis=1, inplace=True)"
   ]
  },
  {
   "cell_type": "code",
   "execution_count": 77,
   "metadata": {
    "hidden": true
   },
   "outputs": [
    {
     "data": {
      "text/html": [
       "<div>\n",
       "<style scoped>\n",
       "    .dataframe tbody tr th:only-of-type {\n",
       "        vertical-align: middle;\n",
       "    }\n",
       "\n",
       "    .dataframe tbody tr th {\n",
       "        vertical-align: top;\n",
       "    }\n",
       "\n",
       "    .dataframe thead th {\n",
       "        text-align: right;\n",
       "    }\n",
       "</style>\n",
       "<table border=\"1\" class=\"dataframe\">\n",
       "  <thead>\n",
       "    <tr style=\"text-align: right;\">\n",
       "      <th></th>\n",
       "      <th>CID</th>\n",
       "      <th>SMILES_x</th>\n",
       "      <th>Activity_x</th>\n",
       "      <th>ECFP4_1</th>\n",
       "      <th>ECFP4_2</th>\n",
       "      <th>ECFP4_3</th>\n",
       "      <th>ECFP4_4</th>\n",
       "      <th>ECFP4_5</th>\n",
       "      <th>ECFP4_6</th>\n",
       "      <th>ECFP4_7</th>\n",
       "      <th>...</th>\n",
       "      <th>act_118</th>\n",
       "      <th>act_119</th>\n",
       "      <th>act_120</th>\n",
       "      <th>act_121</th>\n",
       "      <th>act_122</th>\n",
       "      <th>act_123</th>\n",
       "      <th>act_124</th>\n",
       "      <th>act_125</th>\n",
       "      <th>act_126</th>\n",
       "      <th>act_127</th>\n",
       "    </tr>\n",
       "  </thead>\n",
       "  <tbody>\n",
       "    <tr>\n",
       "      <th>0</th>\n",
       "      <td>CHEMBL1454842</td>\n",
       "      <td>s1nc(nc1-c1ccncc1)-c1ccncc1</td>\n",
       "      <td>1</td>\n",
       "      <td>0</td>\n",
       "      <td>0</td>\n",
       "      <td>0</td>\n",
       "      <td>0</td>\n",
       "      <td>0</td>\n",
       "      <td>0</td>\n",
       "      <td>0</td>\n",
       "      <td>...</td>\n",
       "      <td>-0.253255</td>\n",
       "      <td>7.728647</td>\n",
       "      <td>4.196553</td>\n",
       "      <td>7.744170</td>\n",
       "      <td>2.833343</td>\n",
       "      <td>-5.833090</td>\n",
       "      <td>2.175440</td>\n",
       "      <td>9.715018</td>\n",
       "      <td>-6.697997</td>\n",
       "      <td>-3.916421</td>\n",
       "    </tr>\n",
       "    <tr>\n",
       "      <th>1</th>\n",
       "      <td>CHEMBL1939366</td>\n",
       "      <td>s1nc(nc1-c1cccnc1)-c1cccnc1</td>\n",
       "      <td>1</td>\n",
       "      <td>0</td>\n",
       "      <td>0</td>\n",
       "      <td>0</td>\n",
       "      <td>0</td>\n",
       "      <td>0</td>\n",
       "      <td>0</td>\n",
       "      <td>0</td>\n",
       "      <td>...</td>\n",
       "      <td>3.305871</td>\n",
       "      <td>8.696218</td>\n",
       "      <td>4.001807</td>\n",
       "      <td>9.674870</td>\n",
       "      <td>3.959525</td>\n",
       "      <td>-4.367425</td>\n",
       "      <td>5.987826</td>\n",
       "      <td>11.699579</td>\n",
       "      <td>-9.215359</td>\n",
       "      <td>-5.988041</td>\n",
       "    </tr>\n",
       "    <tr>\n",
       "      <th>2</th>\n",
       "      <td>CHEMBL192155</td>\n",
       "      <td>s1cncc1\\C=C\\1/CCc2cc(OC)ccc/12</td>\n",
       "      <td>1</td>\n",
       "      <td>0</td>\n",
       "      <td>0</td>\n",
       "      <td>0</td>\n",
       "      <td>0</td>\n",
       "      <td>0</td>\n",
       "      <td>0</td>\n",
       "      <td>0</td>\n",
       "      <td>...</td>\n",
       "      <td>-1.710156</td>\n",
       "      <td>0.551617</td>\n",
       "      <td>3.877632</td>\n",
       "      <td>3.636263</td>\n",
       "      <td>1.602630</td>\n",
       "      <td>-4.822006</td>\n",
       "      <td>-3.375687</td>\n",
       "      <td>4.011164</td>\n",
       "      <td>2.491900</td>\n",
       "      <td>2.675303</td>\n",
       "    </tr>\n",
       "    <tr>\n",
       "      <th>3</th>\n",
       "      <td>CHEMBL517816</td>\n",
       "      <td>s1cccc1CN(n1ncnc1)Cc1ccc(cc1)C(C)(C)C</td>\n",
       "      <td>1</td>\n",
       "      <td>0</td>\n",
       "      <td>0</td>\n",
       "      <td>0</td>\n",
       "      <td>0</td>\n",
       "      <td>0</td>\n",
       "      <td>0</td>\n",
       "      <td>0</td>\n",
       "      <td>...</td>\n",
       "      <td>6.483366</td>\n",
       "      <td>17.466084</td>\n",
       "      <td>0.221648</td>\n",
       "      <td>11.706307</td>\n",
       "      <td>0.246143</td>\n",
       "      <td>-7.070720</td>\n",
       "      <td>11.904807</td>\n",
       "      <td>13.065377</td>\n",
       "      <td>-4.679908</td>\n",
       "      <td>-5.611359</td>\n",
       "    </tr>\n",
       "    <tr>\n",
       "      <th>4</th>\n",
       "      <td>CHEMBL523973</td>\n",
       "      <td>s1cccc1CN(n1ccnc1)Cc1ccc(cc1)C(C)(C)C</td>\n",
       "      <td>1</td>\n",
       "      <td>0</td>\n",
       "      <td>0</td>\n",
       "      <td>0</td>\n",
       "      <td>0</td>\n",
       "      <td>0</td>\n",
       "      <td>0</td>\n",
       "      <td>0</td>\n",
       "      <td>...</td>\n",
       "      <td>3.851789</td>\n",
       "      <td>15.585896</td>\n",
       "      <td>1.355715</td>\n",
       "      <td>11.832880</td>\n",
       "      <td>-0.197730</td>\n",
       "      <td>-6.419633</td>\n",
       "      <td>9.892677</td>\n",
       "      <td>14.316216</td>\n",
       "      <td>-4.364078</td>\n",
       "      <td>-4.033681</td>\n",
       "    </tr>\n",
       "  </tbody>\n",
       "</table>\n",
       "<p>5 rows × 1157 columns</p>\n",
       "</div>"
      ],
      "text/plain": [
       "             CID                               SMILES_x  Activity_x  ECFP4_1  \\\n",
       "0  CHEMBL1454842            s1nc(nc1-c1ccncc1)-c1ccncc1           1        0   \n",
       "1  CHEMBL1939366            s1nc(nc1-c1cccnc1)-c1cccnc1           1        0   \n",
       "2   CHEMBL192155         s1cncc1\\C=C\\1/CCc2cc(OC)ccc/12           1        0   \n",
       "3   CHEMBL517816  s1cccc1CN(n1ncnc1)Cc1ccc(cc1)C(C)(C)C           1        0   \n",
       "4   CHEMBL523973  s1cccc1CN(n1ccnc1)Cc1ccc(cc1)C(C)(C)C           1        0   \n",
       "\n",
       "   ECFP4_2  ECFP4_3  ECFP4_4  ECFP4_5  ECFP4_6  ECFP4_7  ...   act_118  \\\n",
       "0        0        0        0        0        0        0  ... -0.253255   \n",
       "1        0        0        0        0        0        0  ...  3.305871   \n",
       "2        0        0        0        0        0        0  ... -1.710156   \n",
       "3        0        0        0        0        0        0  ...  6.483366   \n",
       "4        0        0        0        0        0        0  ...  3.851789   \n",
       "\n",
       "     act_119   act_120    act_121   act_122   act_123    act_124    act_125  \\\n",
       "0   7.728647  4.196553   7.744170  2.833343 -5.833090   2.175440   9.715018   \n",
       "1   8.696218  4.001807   9.674870  3.959525 -4.367425   5.987826  11.699579   \n",
       "2   0.551617  3.877632   3.636263  1.602630 -4.822006  -3.375687   4.011164   \n",
       "3  17.466084  0.221648  11.706307  0.246143 -7.070720  11.904807  13.065377   \n",
       "4  15.585896  1.355715  11.832880 -0.197730 -6.419633   9.892677  14.316216   \n",
       "\n",
       "    act_126   act_127  \n",
       "0 -6.697997 -3.916421  \n",
       "1 -9.215359 -5.988041  \n",
       "2  2.491900  2.675303  \n",
       "3 -4.679908 -5.611359  \n",
       "4 -4.364078 -4.033681  \n",
       "\n",
       "[5 rows x 1157 columns]"
      ]
     },
     "execution_count": 77,
     "metadata": {},
     "output_type": "execute_result"
    }
   ],
   "source": [
    "df.head()"
   ]
  },
  {
   "cell_type": "code",
   "execution_count": 78,
   "metadata": {
    "hidden": true
   },
   "outputs": [],
   "source": [
    "df.rename(columns={'SMILES_x': 'SMILES', 'Activity_x': 'Activity'}, inplace=True)"
   ]
  },
  {
   "cell_type": "markdown",
   "metadata": {
    "hidden": true
   },
   "source": [
    "Save the dataframe:"
   ]
  },
  {
   "cell_type": "code",
   "execution_count": 79,
   "metadata": {
    "hidden": true
   },
   "outputs": [
    {
     "data": {
      "text/plain": [
       "Path('/data-ssd/Dropbox/Jobb/projects/ML/medGPU1-alex/PCS956-DL-2021/2-intro_to_practical_dl/dev-notebooks/data/drug/interim')"
      ]
     },
     "execution_count": 79,
     "metadata": {},
     "output_type": "execute_result"
    }
   ],
   "source": [
    "LOCALDATA"
   ]
  },
  {
   "cell_type": "code",
   "execution_count": 80,
   "metadata": {
    "hidden": true
   },
   "outputs": [],
   "source": [
    "df.to_csv('data/chembl1978-data-with-ecfp-activations.csv', index=None)"
   ]
  },
  {
   "cell_type": "markdown",
   "metadata": {
    "heading_collapsed": true
   },
   "source": [
    "# Train machine learning models on extracted features"
   ]
  },
  {
   "cell_type": "markdown",
   "metadata": {
    "heading_collapsed": true,
    "hidden": true
   },
   "source": [
    "### Split the data"
   ]
  },
  {
   "cell_type": "markdown",
   "metadata": {
    "hidden": true
   },
   "source": [
    "We use the validation data from the CNN model as test data (as it's unseen by the CNN model during training)."
   ]
  },
  {
   "cell_type": "code",
   "execution_count": 81,
   "metadata": {
    "hidden": true
   },
   "outputs": [],
   "source": [
    "train = df.loc[df.is_valid==False]\n",
    "test = df.loc[df.is_valid==True]"
   ]
  },
  {
   "cell_type": "code",
   "execution_count": 82,
   "metadata": {
    "hidden": true
   },
   "outputs": [],
   "source": [
    "X_train, y_train = train.drop([\"CID\", \"SMILES\", \"Activity\", \"Image\"], axis=1), train[\"Activity\"]"
   ]
  },
  {
   "cell_type": "code",
   "execution_count": 83,
   "metadata": {
    "hidden": true
   },
   "outputs": [],
   "source": [
    "X_test, y_test = test.drop([\"CID\", \"SMILES\", \"Activity\", \"Image\"], axis=1), test[\"Activity\"]"
   ]
  },
  {
   "cell_type": "code",
   "execution_count": 84,
   "metadata": {
    "hidden": true
   },
   "outputs": [
    {
     "data": {
      "text/html": [
       "<div>\n",
       "<style scoped>\n",
       "    .dataframe tbody tr th:only-of-type {\n",
       "        vertical-align: middle;\n",
       "    }\n",
       "\n",
       "    .dataframe tbody tr th {\n",
       "        vertical-align: top;\n",
       "    }\n",
       "\n",
       "    .dataframe thead th {\n",
       "        text-align: right;\n",
       "    }\n",
       "</style>\n",
       "<table border=\"1\" class=\"dataframe\">\n",
       "  <thead>\n",
       "    <tr style=\"text-align: right;\">\n",
       "      <th></th>\n",
       "      <th>ECFP4_1</th>\n",
       "      <th>ECFP4_2</th>\n",
       "      <th>ECFP4_3</th>\n",
       "      <th>ECFP4_4</th>\n",
       "      <th>ECFP4_5</th>\n",
       "      <th>ECFP4_6</th>\n",
       "      <th>ECFP4_7</th>\n",
       "      <th>ECFP4_8</th>\n",
       "      <th>ECFP4_9</th>\n",
       "      <th>ECFP4_10</th>\n",
       "      <th>...</th>\n",
       "      <th>act_118</th>\n",
       "      <th>act_119</th>\n",
       "      <th>act_120</th>\n",
       "      <th>act_121</th>\n",
       "      <th>act_122</th>\n",
       "      <th>act_123</th>\n",
       "      <th>act_124</th>\n",
       "      <th>act_125</th>\n",
       "      <th>act_126</th>\n",
       "      <th>act_127</th>\n",
       "    </tr>\n",
       "  </thead>\n",
       "  <tbody>\n",
       "    <tr>\n",
       "      <th>1</th>\n",
       "      <td>0</td>\n",
       "      <td>0</td>\n",
       "      <td>0</td>\n",
       "      <td>0</td>\n",
       "      <td>0</td>\n",
       "      <td>0</td>\n",
       "      <td>0</td>\n",
       "      <td>0</td>\n",
       "      <td>0</td>\n",
       "      <td>0</td>\n",
       "      <td>...</td>\n",
       "      <td>3.305871</td>\n",
       "      <td>8.696218</td>\n",
       "      <td>4.001807</td>\n",
       "      <td>9.674870</td>\n",
       "      <td>3.959525</td>\n",
       "      <td>-4.367425</td>\n",
       "      <td>5.987826</td>\n",
       "      <td>11.699579</td>\n",
       "      <td>-9.215359</td>\n",
       "      <td>-5.988041</td>\n",
       "    </tr>\n",
       "    <tr>\n",
       "      <th>3</th>\n",
       "      <td>0</td>\n",
       "      <td>0</td>\n",
       "      <td>0</td>\n",
       "      <td>0</td>\n",
       "      <td>0</td>\n",
       "      <td>0</td>\n",
       "      <td>0</td>\n",
       "      <td>0</td>\n",
       "      <td>0</td>\n",
       "      <td>0</td>\n",
       "      <td>...</td>\n",
       "      <td>6.483366</td>\n",
       "      <td>17.466084</td>\n",
       "      <td>0.221648</td>\n",
       "      <td>11.706307</td>\n",
       "      <td>0.246143</td>\n",
       "      <td>-7.070720</td>\n",
       "      <td>11.904807</td>\n",
       "      <td>13.065377</td>\n",
       "      <td>-4.679908</td>\n",
       "      <td>-5.611359</td>\n",
       "    </tr>\n",
       "    <tr>\n",
       "      <th>4</th>\n",
       "      <td>0</td>\n",
       "      <td>0</td>\n",
       "      <td>0</td>\n",
       "      <td>0</td>\n",
       "      <td>0</td>\n",
       "      <td>0</td>\n",
       "      <td>0</td>\n",
       "      <td>0</td>\n",
       "      <td>0</td>\n",
       "      <td>0</td>\n",
       "      <td>...</td>\n",
       "      <td>3.851789</td>\n",
       "      <td>15.585896</td>\n",
       "      <td>1.355715</td>\n",
       "      <td>11.832880</td>\n",
       "      <td>-0.197730</td>\n",
       "      <td>-6.419633</td>\n",
       "      <td>9.892677</td>\n",
       "      <td>14.316216</td>\n",
       "      <td>-4.364078</td>\n",
       "      <td>-4.033681</td>\n",
       "    </tr>\n",
       "    <tr>\n",
       "      <th>5</th>\n",
       "      <td>0</td>\n",
       "      <td>0</td>\n",
       "      <td>0</td>\n",
       "      <td>0</td>\n",
       "      <td>0</td>\n",
       "      <td>0</td>\n",
       "      <td>0</td>\n",
       "      <td>0</td>\n",
       "      <td>0</td>\n",
       "      <td>0</td>\n",
       "      <td>...</td>\n",
       "      <td>0.246589</td>\n",
       "      <td>4.500792</td>\n",
       "      <td>7.697244</td>\n",
       "      <td>8.449679</td>\n",
       "      <td>3.419328</td>\n",
       "      <td>-6.521668</td>\n",
       "      <td>3.045133</td>\n",
       "      <td>11.977139</td>\n",
       "      <td>-7.729894</td>\n",
       "      <td>-3.796851</td>\n",
       "    </tr>\n",
       "    <tr>\n",
       "      <th>8</th>\n",
       "      <td>0</td>\n",
       "      <td>0</td>\n",
       "      <td>0</td>\n",
       "      <td>0</td>\n",
       "      <td>0</td>\n",
       "      <td>0</td>\n",
       "      <td>0</td>\n",
       "      <td>0</td>\n",
       "      <td>0</td>\n",
       "      <td>0</td>\n",
       "      <td>...</td>\n",
       "      <td>2.686651</td>\n",
       "      <td>5.610452</td>\n",
       "      <td>2.036967</td>\n",
       "      <td>6.985032</td>\n",
       "      <td>1.618249</td>\n",
       "      <td>-6.104956</td>\n",
       "      <td>3.035102</td>\n",
       "      <td>8.846895</td>\n",
       "      <td>-2.985255</td>\n",
       "      <td>-4.508418</td>\n",
       "    </tr>\n",
       "  </tbody>\n",
       "</table>\n",
       "<p>5 rows × 1153 columns</p>\n",
       "</div>"
      ],
      "text/plain": [
       "   ECFP4_1  ECFP4_2  ECFP4_3  ECFP4_4  ECFP4_5  ECFP4_6  ECFP4_7  ECFP4_8  \\\n",
       "1        0        0        0        0        0        0        0        0   \n",
       "3        0        0        0        0        0        0        0        0   \n",
       "4        0        0        0        0        0        0        0        0   \n",
       "5        0        0        0        0        0        0        0        0   \n",
       "8        0        0        0        0        0        0        0        0   \n",
       "\n",
       "   ECFP4_9  ECFP4_10  ...   act_118    act_119   act_120    act_121   act_122  \\\n",
       "1        0         0  ...  3.305871   8.696218  4.001807   9.674870  3.959525   \n",
       "3        0         0  ...  6.483366  17.466084  0.221648  11.706307  0.246143   \n",
       "4        0         0  ...  3.851789  15.585896  1.355715  11.832880 -0.197730   \n",
       "5        0         0  ...  0.246589   4.500792  7.697244   8.449679  3.419328   \n",
       "8        0         0  ...  2.686651   5.610452  2.036967   6.985032  1.618249   \n",
       "\n",
       "    act_123    act_124    act_125   act_126   act_127  \n",
       "1 -4.367425   5.987826  11.699579 -9.215359 -5.988041  \n",
       "3 -7.070720  11.904807  13.065377 -4.679908 -5.611359  \n",
       "4 -6.419633   9.892677  14.316216 -4.364078 -4.033681  \n",
       "5 -6.521668   3.045133  11.977139 -7.729894 -3.796851  \n",
       "8 -6.104956   3.035102   8.846895 -2.985255 -4.508418  \n",
       "\n",
       "[5 rows x 1153 columns]"
      ]
     },
     "execution_count": 84,
     "metadata": {},
     "output_type": "execute_result"
    }
   ],
   "source": [
    "X_train.head()"
   ]
  },
  {
   "cell_type": "code",
   "execution_count": 85,
   "metadata": {
    "hidden": true
   },
   "outputs": [
    {
     "data": {
      "text/plain": [
       "1    1\n",
       "3    1\n",
       "4    1\n",
       "5    1\n",
       "8    1\n",
       "Name: Activity, dtype: int64"
      ]
     },
     "execution_count": 85,
     "metadata": {},
     "output_type": "execute_result"
    }
   ],
   "source": [
    "y_train.head()"
   ]
  },
  {
   "cell_type": "markdown",
   "metadata": {
    "heading_collapsed": true,
    "hidden": true
   },
   "source": [
    "### A logistic regression model"
   ]
  },
  {
   "cell_type": "code",
   "execution_count": 86,
   "metadata": {
    "hidden": true
   },
   "outputs": [],
   "source": [
    "from sklearn.linear_model import LogisticRegression\n",
    "from sklearn.preprocessing import StandardScaler"
   ]
  },
  {
   "cell_type": "code",
   "execution_count": 87,
   "metadata": {
    "hidden": true
   },
   "outputs": [],
   "source": [
    "from sklearn.metrics import (roc_auc_score, accuracy_score, recall_score, \n",
    "matthews_corrcoef, precision_score, f1_score)"
   ]
  },
  {
   "cell_type": "code",
   "execution_count": 88,
   "metadata": {
    "hidden": true
   },
   "outputs": [],
   "source": [
    "def train_lr(X_train, X_test, y_train, y_test, features='ECFP'):\n",
    "    \n",
    "    if features!='all':\n",
    "        X_train = X_train[[c for c in X_train.columns if features in c]]\n",
    "        X_test = X_test[[c for c in X_test.columns if features in c]]\n",
    "        print(f'Training on {len(X_train.columns)} features\\n')\n",
    "    else:\n",
    "        print(f'Training on all {len(X_train.columns)} ECFP and CNN features\\n')\n",
    "    \n",
    "    # Must scale the data for the linear logreg model:\n",
    "    sc = StandardScaler()\n",
    "    X_train_std = sc.fit_transform(X_train)\n",
    "    X_test_std = sc.transform(X_test)\n",
    "    \n",
    "    \n",
    "    lr = LogisticRegression(max_iter=500)\n",
    "  \n",
    "    lr.fit(X_train_std, y_train)\n",
    "    \n",
    "    y_pred = lr.predict(X_test_std)\n",
    "    y_pred_prob = lr.predict_proba(X_test_std)\n",
    "    \n",
    "    temp=[]\n",
    "    for j in range(len(y_pred_prob)):\n",
    "    \ttemp.append(y_pred_prob[j][1])\n",
    "    auc=roc_auc_score(np.array(y_test),np.array(temp))\n",
    "    acc2=accuracy_score(y_test,y_pred)\n",
    "    mcc=matthews_corrcoef(y_test,y_pred)\n",
    "    Recall=recall_score(y_test, y_pred,pos_label=1)\n",
    "    Precision=precision_score(y_test, y_pred,pos_label=1)\n",
    "    F1_score=f1_score(y_test, y_pred,pos_label=1)\n",
    "    \n",
    "    print(f'AUC: {auc}')\n",
    "    print(f'Accuracy: {acc2}')\n",
    "    print(f'MCC: {mcc}')\n",
    "    print(f'Recall: {Recall}')\n",
    "    print(f'Precision: {Precision}')\n",
    "    print(f'F1_score: {F1_score}')\n",
    "\n",
    "    return auc,acc2,mcc,Recall,Precision,F1_score, lr"
   ]
  },
  {
   "cell_type": "code",
   "execution_count": 89,
   "metadata": {
    "hidden": true
   },
   "outputs": [
    {
     "name": "stdout",
     "output_type": "stream",
     "text": [
      "Training on 1024 features\n",
      "\n",
      "AUC: 0.9844421826641464\n",
      "Accuracy: 0.9754098360655737\n",
      "MCC: 0.8518754972513235\n",
      "Recall: 0.8709677419354839\n",
      "Precision: 0.8598726114649682\n",
      "F1_score: 0.8653846153846154\n"
     ]
    }
   ],
   "source": [
    "_ = train_lr(X_train, X_test, y_train, y_test, features='ECFP')"
   ]
  },
  {
   "cell_type": "code",
   "execution_count": 90,
   "metadata": {
    "hidden": true
   },
   "outputs": [
    {
     "name": "stdout",
     "output_type": "stream",
     "text": [
      "Training on 128 features\n",
      "\n",
      "AUC: 0.9801258749974037\n",
      "Accuracy: 0.9765807962529274\n",
      "MCC: 0.8521996070868413\n",
      "Recall: 0.8129032258064516\n",
      "Precision: 0.9197080291970803\n",
      "F1_score: 0.8630136986301369\n"
     ]
    }
   ],
   "source": [
    "_ = train_lr(X_train, X_test, y_train, y_test, features='act_')"
   ]
  },
  {
   "cell_type": "code",
   "execution_count": 91,
   "metadata": {
    "hidden": true
   },
   "outputs": [
    {
     "name": "stdout",
     "output_type": "stream",
     "text": [
      "Training on all 1153 ECFP and CNN features\n",
      "\n",
      "AUC: 0.9810730531956879\n",
      "Accuracy: 0.977751756440281\n",
      "MCC: 0.8617284923630204\n",
      "Recall: 0.8451612903225807\n",
      "Precision: 0.903448275862069\n",
      "F1_score: 0.8733333333333334\n"
     ]
    }
   ],
   "source": [
    "_ = train_lr(X_train, X_test, y_train, y_test, features='all')"
   ]
  }
 ],
 "metadata": {
  "kernelspec": {
   "display_name": "pcs956",
   "language": "python",
   "name": "pcs956"
  },
  "language_info": {
   "codemirror_mode": {
    "name": "ipython",
    "version": 3
   },
   "file_extension": ".py",
   "mimetype": "text/x-python",
   "name": "python",
   "nbconvert_exporter": "python",
   "pygments_lexer": "ipython3",
   "version": "3.8.12"
  },
  "varInspector": {
   "cols": {
    "lenName": 16,
    "lenType": 16,
    "lenVar": 40
   },
   "kernels_config": {
    "python": {
     "delete_cmd_postfix": "",
     "delete_cmd_prefix": "del ",
     "library": "var_list.py",
     "varRefreshCmd": "print(var_dic_list())"
    },
    "r": {
     "delete_cmd_postfix": ") ",
     "delete_cmd_prefix": "rm(",
     "library": "var_list.r",
     "varRefreshCmd": "cat(var_dic_list()) "
    }
   },
   "types_to_exclude": [
    "module",
    "function",
    "builtin_function_or_method",
    "instance",
    "_Feature"
   ],
   "window_display": false
  }
 },
 "nbformat": 4,
 "nbformat_minor": 4
}
